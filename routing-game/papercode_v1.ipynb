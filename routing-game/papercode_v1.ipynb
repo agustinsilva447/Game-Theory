{
 "cells": [
  {
   "cell_type": "code",
   "execution_count": 1,
   "id": "voluntary-mobility",
   "metadata": {},
   "outputs": [],
   "source": [
    "import numpy as np\n",
    "import networkx as nx\n",
    "import matplotlib.pyplot as plt\n",
    "import copy\n",
    "\n",
    "from qiskit import QuantumCircuit, Aer, execute\n",
    "from qiskit.quantum_info import Operator\n",
    "from qiskit.extensions import RXGate, RYGate, RZGate"
   ]
  },
  {
   "cell_type": "code",
   "execution_count": 10,
   "id": "enormous-rapid",
   "metadata": {},
   "outputs": [],
   "source": [
    "n1 = 5   # cantidad de ciudades\n",
    "n2 = 10    # cantidad de viajes\n",
    "n3 = 2    # distancia máxima\n",
    "a = 0\n",
    "distance = np.zeros([n1,n1])\n",
    "moves = np.zeros([n2, 2])"
   ]
  },
  {
   "cell_type": "code",
   "execution_count": 11,
   "id": "wireless-transition",
   "metadata": {},
   "outputs": [
    {
     "name": "stdout",
     "output_type": "stream",
     "text": [
      "Matriz de rutas: \n",
      "[[0 1 1 1 1]\n",
      " [1 0 0 0 0]\n",
      " [1 0 0 1 1]\n",
      " [1 0 1 0 1]\n",
      " [1 0 1 1 0]]\n"
     ]
    }
   ],
   "source": [
    "while (np.linalg.matrix_rank(a)!=n1):\n",
    "    a = np.random.randint(n3, size=(n1,n1))\n",
    "    np.fill_diagonal(a,0)\n",
    "    a = np.tril(a) + np.tril(a, -1).T\n",
    "print(\"Matriz de rutas: \\n{}\".format(a))"
   ]
  },
  {
   "cell_type": "code",
   "execution_count": 12,
   "id": "endless-poetry",
   "metadata": {},
   "outputs": [
    {
     "data": {
      "image/png": "[encoded data removed]",
      "text/plain": [
       "<Figure size 432x288 with 1 Axes>"
      ]
     },
     "metadata": {},
     "output_type": "display_data"
    }
   ],
   "source": [
    "net1 = nx.from_numpy_matrix(copy.deepcopy(a))\n",
    "#net2 = nx.from_numpy_matrix(copy.deepcopy(a))\n",
    "#for e in net2.edges():\n",
    "for e in net1.edges():\n",
    "    #net2[e[0]][e[1]]['color'] = 'black'\n",
    "    net1[e[0]][e[1]]['color'] = 'black'\n",
    "\n",
    "#edge_weights_list = [net2[e[0]][e[1]]['weight'] for e in net2.edges()]\n",
    "#nx.draw_circular(net2, with_labels=True, width=edge_weights_list)\n",
    "edge_weights_list = [net1[e[0]][e[1]]['weight'] for e in net1.edges()]\n",
    "nx.draw_circular(net1, with_labels=True, width=edge_weights_list)\n",
    "\n",
    "plt.show()"
   ]
  },
  {
   "cell_type": "code",
   "execution_count": 13,
   "id": "portuguese-stretch",
   "metadata": {},
   "outputs": [
    {
     "name": "stdout",
     "output_type": "stream",
     "text": [
      "Matriz de movimientos: \n",
      "[[3. 2.]\n",
      " [0. 2.]\n",
      " [4. 3.]\n",
      " [4. 2.]\n",
      " [1. 0.]\n",
      " [2. 0.]\n",
      " [2. 1.]\n",
      " [0. 1.]\n",
      " [3. 1.]\n",
      " [4. 0.]]\n"
     ]
    }
   ],
   "source": [
    "rng = np.random.default_rng()\n",
    "for i in range(n2):\n",
    "    moves[i,:] = rng.choice(n1, size=2, replace=False)\n",
    "print(\"Matriz de movimientos: \\n{}\".format(moves))"
   ]
  },
  {
   "cell_type": "code",
   "execution_count": 14,
   "id": "attractive-termination",
   "metadata": {},
   "outputs": [
    {
     "name": "stdout",
     "output_type": "stream",
     "text": [
      "001 - Para llegar desde 3.0 hasta 2.0 hay que hacer el siguiente camino: [3, 2]\n",
      "002 - Para llegar desde 0.0 hasta 2.0 hay que hacer el siguiente camino: [0, 2]\n",
      "003 - Para llegar desde 4.0 hasta 3.0 hay que hacer el siguiente camino: [4, 3]\n",
      "004 - Para llegar desde 4.0 hasta 2.0 hay que hacer el siguiente camino: [4, 2]\n",
      "005 - Para llegar desde 1.0 hasta 0.0 hay que hacer el siguiente camino: [1, 0]\n",
      "006 - Para llegar desde 2.0 hasta 0.0 hay que hacer el siguiente camino: [2, 0]\n",
      "007 - Para llegar desde 2.0 hasta 1.0 hay que hacer el siguiente camino: [2, 0, 1]\n",
      "008 - Para llegar desde 0.0 hasta 1.0 hay que hacer el siguiente camino: [0, 1]\n",
      "009 - Para llegar desde 3.0 hasta 1.0 hay que hacer el siguiente camino: [3, 0, 1]\n",
      "010 - Para llegar desde 4.0 hasta 0.0 hay que hacer el siguiente camino: [4, 0]\n"
     ]
    }
   ],
   "source": [
    "caminitos = []\n",
    "all_edges = [e for e in net1.edges]\n",
    "for j in range(n2):\n",
    "    p = nx.dijkstra_path(net1,int(moves[j,0]),int(moves[j,1]))\n",
    "    cam = []\n",
    "    for e in range(len(p)-1):\n",
    "        cam.append(tuple(sorted((p[e], p[e+1]))))    \n",
    "    caminitos.append(cam)\n",
    "    print(\"{:0>3} - Para llegar desde {} hasta {} hay que hacer el siguiente camino: {}\".format(j+1, moves[j,0],moves[j,1], p))"
   ]
  },
  {
   "cell_type": "code",
   "execution_count": 25,
   "id": "handed-parliament",
   "metadata": {},
   "outputs": [
    {
     "name": "stdout",
     "output_type": "stream",
     "text": [
      "Todas las posibles rutas: [(0, 1), (0, 2), (0, 3), (0, 4), (2, 3), (2, 4), (3, 4)]\n",
      "Todos las rutas de cada viaje: [[(2, 3)], [(0, 2)], [(3, 4)], [(2, 4)], [(0, 1)], [(0, 2)], [(0, 2), (0, 1)], [(0, 1)], [(0, 3), (0, 1)], [(0, 4)]]\n",
      "---\n",
      "Número total de Rutas: 7\n",
      "La ruta 0 (0, 1) la recorre el viaje 4 [(0, 1)]\n",
      "La ruta 0 (0, 1) la recorre el viaje 6 [(0, 2), (0, 1)]\n",
      "La ruta 0 (0, 1) la recorre el viaje 7 [(0, 1)]\n",
      "La ruta 0 (0, 1) la recorre el viaje 8 [(0, 3), (0, 1)]\n",
      "La ruta 1 (0, 2) la recorre el viaje 1 [(0, 2)]\n",
      "La ruta 1 (0, 2) la recorre el viaje 5 [(0, 2)]\n",
      "La ruta 1 (0, 2) la recorre el viaje 6 [(0, 2), (0, 1)]\n",
      "La ruta 2 (0, 3) la recorre el viaje 8 [(0, 3), (0, 1)]\n",
      "La ruta 3 (0, 4) la recorre el viaje 9 [(0, 4)]\n",
      "La ruta 4 (2, 3) la recorre el viaje 0 [(2, 3)]\n",
      "La ruta 5 (2, 4) la recorre el viaje 3 [(2, 4)]\n",
      "La ruta 6 (3, 4) la recorre el viaje 2 [(3, 4)]\n"
     ]
    }
   ],
   "source": [
    "print(\"Todas las posibles rutas:\",all_edges)\n",
    "print(\"Todos las rutas de cada viaje:\",caminitos)\n",
    "print(\"---\")\n",
    "print(\"Número total de Rutas: {}\".format(len(all_edges)))\n",
    "for i in range(len(all_edges)):\n",
    "    for j in range(n2):\n",
    "        if all_edges[i] in caminitos[j]:\n",
    "            print(\"La ruta {} {} la recorre el viaje {} {}\".format(i,all_edges[i],j,caminitos[j]))"
   ]
  },
  {
   "cell_type": "code",
   "execution_count": 23,
   "id": "floating-length",
   "metadata": {},
   "outputs": [
    {
     "name": "stdout",
     "output_type": "stream",
     "text": [
      "[4, 6, 7, 8]\n",
      "[4]\n"
     ]
    }
   ],
   "source": [
    "def paquetes_en_ruta(caminos, ruta):\n",
    "    lista = []\n",
    "    for i in range(n2):\n",
    "        if ruta in caminos[i]:\n",
    "            lista.append(i)\n",
    "    return lista\n",
    "\n",
    "def crear_circuito(n):\n",
    "    I_f = I = np.array([[1, 0],\n",
    "                  [0, 1]])\n",
    "    X_f = X = np.array([[0, 1],\n",
    "                  [1, 0]])    \n",
    "    for q in range(n-1):\n",
    "        I_f = np.kron(I_f, I)\n",
    "        X_f = np.kron(X_f, X)\n",
    "    J = Operator(1 / np.sqrt(2) * (I_f + 1j * X_f))    \n",
    "    J_dg = J.adjoint()\n",
    "    \n",
    "    if n == 2:        \n",
    "        dx = np.pi/2\n",
    "        dy = np.pi/4\n",
    "        dz = 0\n",
    "    if n == 4:\n",
    "        dx = np.pi/2\n",
    "        dy = 3*np.pi/8\n",
    "        dz = 3*np.pi/4   \n",
    "\n",
    "    circ = QuantumCircuit(n,n)\n",
    "    circ.append(J, range(n))\n",
    "    for q in range(n):\n",
    "        circ.append(RXGate(dx),[q])\n",
    "        circ.append(RYGate(dy),[q])\n",
    "        circ.append(RZGate(dz),[q])            \n",
    "    circ.append(J_dg, range(n))\n",
    "    circ.measure(range(n), range(n))  \n",
    "    return circ\n",
    "\n",
    "def juego(lista):\n",
    "    ganadores = []\n",
    "    circ = crear_circuito(len(lista))\n",
    "    backend = Aer.get_backend('qasm_simulator')\n",
    "    job = execute(circ, backend=backend, shots=1)\n",
    "    result = job.result()\n",
    "    measurement = result.get_counts(circ)\n",
    "    for n,i in enumerate(list(measurement.keys())[0]):\n",
    "        if i=='1':\n",
    "            ganadores.append(lista[n])\n",
    "    return ganadores\n",
    "    \n",
    "paquetes_en_ruta = paquetes_en_ruta(caminitos, all_edges[0])\n",
    "ganadores = juego(paquetes_en_ruta)\n",
    "print(paquetes_en_ruta)\n",
    "print(ganadores)"
   ]
  },
  {
   "cell_type": "code",
   "execution_count": null,
   "id": "disabled-structure",
   "metadata": {},
   "outputs": [],
   "source": []
  }
 ],
 "metadata": {
  "kernelspec": {
   "display_name": "Python 3",
   "language": "python",
   "name": "python3"
  },
  "language_info": {
   "codemirror_mode": {
    "name": "ipython",
    "version": 3
   },
   "file_extension": ".py",
   "mimetype": "text/x-python",
   "name": "python",
   "nbconvert_exporter": "python",
   "pygments_lexer": "ipython3",
   "version": "3.8.5"
  }
 },
 "nbformat": 4,
 "nbformat_minor": 5
}
