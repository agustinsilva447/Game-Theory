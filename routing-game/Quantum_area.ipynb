{
 "cells": [
  {
   "cell_type": "code",
   "execution_count": 7,
   "id": "9530bbbd",
   "metadata": {},
   "outputs": [],
   "source": [
    "import numpy as np\n",
    "from qiskit import QuantumCircuit, Aer, execute\n",
    "from qiskit.quantum_info import Operator\n",
    "from qiskit.extensions import RXGate, RYGate, RZGate"
   ]
  },
  {
   "cell_type": "code",
   "execution_count": 8,
   "id": "64040f5a",
   "metadata": {},
   "outputs": [],
   "source": [
    "def crear_circuito(n, tipo):\n",
    "    I_f = np.array([[1, 0],\n",
    "                  [0, 1]]) \n",
    "    I = np.array([[1, 0],\n",
    "                  [0, 1]])\n",
    "    X_f = np.array([[0, 1],\n",
    "                  [1, 0]]) \n",
    "    X = np.array([[0, 1],\n",
    "                  [1, 0]])    \n",
    "    for q in range(n-1):\n",
    "        I_f = np.kron(I_f, I)\n",
    "        X_f = np.kron(X_f, X)\n",
    "    J = Operator(1 / np.sqrt(2) * (I_f + 1j * X_f))    \n",
    "    J_dg = J.adjoint()\n",
    "    circ = QuantumCircuit(n,n)\n",
    "    circ.append(J, range(n))\n",
    "    if n==1:\n",
    "        dx = np.pi\n",
    "        dy = 0\n",
    "        dz = 0\n",
    "    elif n==2:    \n",
    "        # Pareto sí, Nash no y Pura\n",
    "        #dx = np.pi/2\n",
    "        #dy = np.pi/4\n",
    "        #dz = 0      \n",
    "\n",
    "        # Pareto sí, Nash sí y Mixta\n",
    "        #dx = np.pi/2\n",
    "        #dy = np.pi/4\n",
    "        #dz = np.random.choice([0, np.pi/2, np.pi, 3*np.pi/2])\n",
    "\n",
    "        # Barrido\n",
    "        dx = tipo[0]\n",
    "        dy = tipo[1]\n",
    "        dz = tipo[2]\n",
    "\n",
    "    \"\"\"\n",
    "    elif n==4:\n",
    "        dx = np.pi/2\n",
    "        dy = 3 * np.pi/8\n",
    "        dz = 3 * np.pi/4    \n",
    "    \"\"\"\n",
    "\n",
    "    for q in range(n):\n",
    "        circ.append(RXGate(dx),[q])\n",
    "        circ.append(RYGate(dy),[q])\n",
    "        circ.append(RZGate(dz),[q])         \n",
    "    circ.append(J_dg, range(n))\n",
    "    circ.measure(range(n), range(n))  \n",
    "    return circ"
   ]
  },
  {
   "cell_type": "code",
   "execution_count": 24,
   "id": "12989ef9",
   "metadata": {},
   "outputs": [],
   "source": [
    "def checkear_nozero(check):\n",
    "    circ = crear_circuito(2, [_x,_y,_z])\n",
    "    backend = Aer.get_backend('qasm_simulator')\n",
    "    measurement = execute(circ, backend=backend, shots=1000).result().get_counts(circ)\n",
    "    return ['00'] != list(measurement.keys())"
   ]
  },
  {
   "cell_type": "code",
   "execution_count": 25,
   "id": "d70932e6",
   "metadata": {},
   "outputs": [
    {
     "name": "stdout",
     "output_type": "stream",
     "text": [
      "Cantidad de elementos del vector: 66\n"
     ]
    }
   ],
   "source": [
    "p1 = []\n",
    "probas = np.arange(0,1,0.1)                                                                     # probabilidades de ceder\n",
    "for _p in probas:\n",
    "    p1.append([_p])\n",
    "\n",
    "angulos = np.arange(0, 2 * np.pi, np.pi/2)                                                      # rotaciones en x,y,z\n",
    "for _x in angulos:\n",
    "    for _y in angulos:\n",
    "        for _z in angulos:\n",
    "            check = [_x,_y,_z]\n",
    "            if checkear_nozero(check):\n",
    "                p1.append(check)\n",
    "print(\"Cantidad de elementos del vector:\", len(p1))"
   ]
  },
  {
   "cell_type": "code",
   "execution_count": null,
   "id": "0b4b52ee",
   "metadata": {},
   "outputs": [],
   "source": []
  }
 ],
 "metadata": {
  "kernelspec": {
   "display_name": "Python 3",
   "language": "python",
   "name": "python3"
  },
  "language_info": {
   "codemirror_mode": {
    "name": "ipython",
    "version": 3
   },
   "file_extension": ".py",
   "mimetype": "text/x-python",
   "name": "python",
   "nbconvert_exporter": "python",
   "pygments_lexer": "ipython3",
   "version": "3.8.5"
  }
 },
 "nbformat": 4,
 "nbformat_minor": 5
}
