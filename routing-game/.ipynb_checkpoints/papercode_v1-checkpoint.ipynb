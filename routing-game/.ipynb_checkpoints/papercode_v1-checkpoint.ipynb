{
 "cells": [
  {
   "cell_type": "code",
   "execution_count": 1,
   "id": "voluntary-mobility",
   "metadata": {},
   "outputs": [],
   "source": [
    "import numpy as np\n",
    "import networkx as nx\n",
    "import matplotlib.pyplot as plt\n",
    "import copy\n",
    "\n",
    "from qiskit import QuantumCircuit, Aer, execute\n",
    "from qiskit.quantum_info import Operator\n",
    "from qiskit.extensions import RXGate, RYGate, RZGate"
   ]
  },
  {
   "cell_type": "code",
   "execution_count": 2,
   "id": "enormous-rapid",
   "metadata": {},
   "outputs": [],
   "source": [
    "n1 = 5   # cantidad de ciudades\n",
    "n2 = 20    # cantidad de viajes\n",
    "n3 = 2    # distancia máxima\n",
    "a = 0\n",
    "distance = np.zeros([n1,n1])\n",
    "moves = np.zeros([n2, 2])"
   ]
  },
  {
   "cell_type": "code",
   "execution_count": 3,
   "id": "wireless-transition",
   "metadata": {},
   "outputs": [
    {
     "name": "stdout",
     "output_type": "stream",
     "text": [
      "Matriz de rutas: \n",
      "[[0 1 1 0 1]\n",
      " [1 0 0 0 0]\n",
      " [1 0 0 1 1]\n",
      " [0 0 1 0 1]\n",
      " [1 0 1 1 0]]\n"
     ]
    }
   ],
   "source": [
    "while (np.linalg.matrix_rank(a)!=n1):\n",
    "    a = np.random.randint(n3, size=(n1,n1))\n",
    "    np.fill_diagonal(a,0)\n",
    "    a = np.tril(a) + np.tril(a, -1).T\n",
    "print(\"Matriz de rutas: \\n{}\".format(a))"
   ]
  },
  {
   "cell_type": "code",
   "execution_count": 4,
   "id": "endless-poetry",
   "metadata": {},
   "outputs": [
    {
     "data": {
      "image/png": "[encoded data removed]",
      "text/plain": [
       "<Figure size 432x288 with 1 Axes>"
      ]
     },
     "metadata": {},
     "output_type": "display_data"
    }
   ],
   "source": [
    "net1 = nx.from_numpy_matrix(copy.deepcopy(a))\n",
    "for e in net1.edges():\n",
    "    net1[e[0]][e[1]]['color'] = 'black'\n",
    "\n",
    "edge_weights_list = [net1[e[0]][e[1]]['weight'] for e in net1.edges()]\n",
    "nx.draw_circular(net1, with_labels=True, width=edge_weights_list)\n",
    "plt.show()"
   ]
  },
  {
   "cell_type": "code",
   "execution_count": 5,
   "id": "portuguese-stretch",
   "metadata": {},
   "outputs": [
    {
     "name": "stdout",
     "output_type": "stream",
     "text": [
      "Matriz de movimientos: \n",
      "[[4. 3.]\n",
      " [0. 1.]\n",
      " [3. 1.]\n",
      " [0. 2.]\n",
      " [0. 2.]\n",
      " [3. 2.]\n",
      " [0. 1.]\n",
      " [3. 4.]\n",
      " [0. 4.]\n",
      " [1. 2.]\n",
      " [3. 1.]\n",
      " [2. 0.]\n",
      " [2. 3.]\n",
      " [0. 4.]\n",
      " [0. 3.]\n",
      " [2. 1.]\n",
      " [3. 2.]\n",
      " [2. 4.]\n",
      " [1. 4.]\n",
      " [1. 4.]]\n"
     ]
    }
   ],
   "source": [
    "rng = np.random.default_rng()\n",
    "for i in range(n2):\n",
    "    moves[i,:] = rng.choice(n1, size=2, replace=False)\n",
    "print(\"Matriz de movimientos: \\n{}\".format(moves))"
   ]
  },
  {
   "cell_type": "code",
   "execution_count": 6,
   "id": "attractive-termination",
   "metadata": {},
   "outputs": [
    {
     "name": "stdout",
     "output_type": "stream",
     "text": [
      "001 - Para llegar desde 4.0 hasta 3.0 hay que hacer el siguiente camino: [4, 3]\n",
      "002 - Para llegar desde 0.0 hasta 1.0 hay que hacer el siguiente camino: [0, 1]\n",
      "003 - Para llegar desde 3.0 hasta 1.0 hay que hacer el siguiente camino: [3, 2, 0, 1]\n",
      "004 - Para llegar desde 0.0 hasta 2.0 hay que hacer el siguiente camino: [0, 2]\n",
      "005 - Para llegar desde 0.0 hasta 2.0 hay que hacer el siguiente camino: [0, 2]\n",
      "006 - Para llegar desde 3.0 hasta 2.0 hay que hacer el siguiente camino: [3, 2]\n",
      "007 - Para llegar desde 0.0 hasta 1.0 hay que hacer el siguiente camino: [0, 1]\n",
      "008 - Para llegar desde 3.0 hasta 4.0 hay que hacer el siguiente camino: [3, 4]\n",
      "009 - Para llegar desde 0.0 hasta 4.0 hay que hacer el siguiente camino: [0, 4]\n",
      "010 - Para llegar desde 1.0 hasta 2.0 hay que hacer el siguiente camino: [1, 0, 2]\n",
      "011 - Para llegar desde 3.0 hasta 1.0 hay que hacer el siguiente camino: [3, 2, 0, 1]\n",
      "012 - Para llegar desde 2.0 hasta 0.0 hay que hacer el siguiente camino: [2, 0]\n",
      "013 - Para llegar desde 2.0 hasta 3.0 hay que hacer el siguiente camino: [2, 3]\n",
      "014 - Para llegar desde 0.0 hasta 4.0 hay que hacer el siguiente camino: [0, 4]\n",
      "015 - Para llegar desde 0.0 hasta 3.0 hay que hacer el siguiente camino: [0, 2, 3]\n",
      "016 - Para llegar desde 2.0 hasta 1.0 hay que hacer el siguiente camino: [2, 0, 1]\n",
      "017 - Para llegar desde 3.0 hasta 2.0 hay que hacer el siguiente camino: [3, 2]\n",
      "018 - Para llegar desde 2.0 hasta 4.0 hay que hacer el siguiente camino: [2, 4]\n",
      "019 - Para llegar desde 1.0 hasta 4.0 hay que hacer el siguiente camino: [1, 0, 4]\n",
      "020 - Para llegar desde 1.0 hasta 4.0 hay que hacer el siguiente camino: [1, 0, 4]\n"
     ]
    }
   ],
   "source": [
    "caminitos = []\n",
    "all_edges = [e for e in net1.edges]\n",
    "for j in range(n2):\n",
    "    p = nx.dijkstra_path(net1,int(moves[j,0]),int(moves[j,1]))\n",
    "    cam = []\n",
    "    for e in range(len(p)-1):\n",
    "        cam.append(tuple(sorted((p[e], p[e+1]))))    \n",
    "    caminitos.append(cam)\n",
    "    print(\"{:0>3} - Para llegar desde {} hasta {} hay que hacer el siguiente camino: {}\".format(j+1, moves[j,0],moves[j,1], p))"
   ]
  },
  {
   "cell_type": "code",
   "execution_count": 7,
   "id": "handed-parliament",
   "metadata": {},
   "outputs": [
    {
     "name": "stdout",
     "output_type": "stream",
     "text": [
      "Todas las posibles rutas: [(0, 1), (0, 2), (0, 4), (2, 3), (2, 4), (3, 4)]\n",
      "Todos las rutas de cada viaje: [[(3, 4)], [(0, 1)], [(2, 3), (0, 2), (0, 1)], [(0, 2)], [(0, 2)], [(2, 3)], [(0, 1)], [(3, 4)], [(0, 4)], [(0, 1), (0, 2)], [(2, 3), (0, 2), (0, 1)], [(0, 2)], [(2, 3)], [(0, 4)], [(0, 2), (2, 3)], [(0, 2), (0, 1)], [(2, 3)], [(2, 4)], [(0, 1), (0, 4)], [(0, 1), (0, 4)]]\n",
      "---\n",
      "Número total de Rutas: 6\n",
      "La ruta 0 (0, 1) la recorre el viaje 1 [(0, 1)]\n",
      "La ruta 0 (0, 1) la recorre el viaje 2 [(2, 3), (0, 2), (0, 1)]\n",
      "La ruta 0 (0, 1) la recorre el viaje 6 [(0, 1)]\n",
      "La ruta 0 (0, 1) la recorre el viaje 9 [(0, 1), (0, 2)]\n",
      "La ruta 0 (0, 1) la recorre el viaje 10 [(2, 3), (0, 2), (0, 1)]\n",
      "La ruta 0 (0, 1) la recorre el viaje 15 [(0, 2), (0, 1)]\n",
      "La ruta 0 (0, 1) la recorre el viaje 18 [(0, 1), (0, 4)]\n",
      "La ruta 0 (0, 1) la recorre el viaje 19 [(0, 1), (0, 4)]\n",
      "La ruta 1 (0, 2) la recorre el viaje 2 [(2, 3), (0, 2), (0, 1)]\n",
      "La ruta 1 (0, 2) la recorre el viaje 3 [(0, 2)]\n",
      "La ruta 1 (0, 2) la recorre el viaje 4 [(0, 2)]\n",
      "La ruta 1 (0, 2) la recorre el viaje 9 [(0, 1), (0, 2)]\n",
      "La ruta 1 (0, 2) la recorre el viaje 10 [(2, 3), (0, 2), (0, 1)]\n",
      "La ruta 1 (0, 2) la recorre el viaje 11 [(0, 2)]\n",
      "La ruta 1 (0, 2) la recorre el viaje 14 [(0, 2), (2, 3)]\n",
      "La ruta 1 (0, 2) la recorre el viaje 15 [(0, 2), (0, 1)]\n",
      "La ruta 2 (0, 4) la recorre el viaje 8 [(0, 4)]\n",
      "La ruta 2 (0, 4) la recorre el viaje 13 [(0, 4)]\n",
      "La ruta 2 (0, 4) la recorre el viaje 18 [(0, 1), (0, 4)]\n",
      "La ruta 2 (0, 4) la recorre el viaje 19 [(0, 1), (0, 4)]\n",
      "La ruta 3 (2, 3) la recorre el viaje 2 [(2, 3), (0, 2), (0, 1)]\n",
      "La ruta 3 (2, 3) la recorre el viaje 5 [(2, 3)]\n",
      "La ruta 3 (2, 3) la recorre el viaje 10 [(2, 3), (0, 2), (0, 1)]\n",
      "La ruta 3 (2, 3) la recorre el viaje 12 [(2, 3)]\n",
      "La ruta 3 (2, 3) la recorre el viaje 14 [(0, 2), (2, 3)]\n",
      "La ruta 3 (2, 3) la recorre el viaje 16 [(2, 3)]\n",
      "La ruta 4 (2, 4) la recorre el viaje 17 [(2, 4)]\n",
      "La ruta 5 (3, 4) la recorre el viaje 0 [(3, 4)]\n",
      "La ruta 5 (3, 4) la recorre el viaje 7 [(3, 4)]\n"
     ]
    }
   ],
   "source": [
    "print(\"Todas las posibles rutas:\",all_edges)\n",
    "print(\"Todos las rutas de cada viaje:\",caminitos)\n",
    "print(\"---\")\n",
    "print(\"Número total de Rutas: {}\".format(len(all_edges)))\n",
    "for i in range(len(all_edges)):\n",
    "    for j in range(n2):\n",
    "        if all_edges[i] in caminitos[j]:\n",
    "            print(\"La ruta {} {} la recorre el viaje {} {}\".format(i,all_edges[i],j,caminitos[j]))"
   ]
  },
  {
   "cell_type": "code",
   "execution_count": 8,
   "id": "located-baghdad",
   "metadata": {},
   "outputs": [
    {
     "name": "stdout",
     "output_type": "stream",
     "text": [
      "Ruta 0:\n",
      "[1, 2, 6, 9, 10, 15, 18, 19]\n",
      "[15]\n",
      "\n",
      "Ruta 1:\n",
      "[2, 3, 4, 9, 10, 11, 14, 15]\n",
      "[3]\n",
      "\n",
      "Ruta 2:\n",
      "[8, 13, 18, 19]\n",
      "[19]\n",
      "\n",
      "Ruta 3:\n",
      "[2, 5, 10, 12, 14, 16]\n",
      "[16]\n",
      "\n",
      "Ruta 4:\n",
      "[17]\n",
      "[17]\n",
      "\n",
      "Ruta 5:\n",
      "[0, 7]\n",
      "[7]\n",
      "\n"
     ]
    }
   ],
   "source": [
    "def paquetes_en_ruta(caminos, ruta):\n",
    "    lista = []\n",
    "    for i in range(n2):\n",
    "        if ruta in caminos[i]:\n",
    "            lista.append(i)\n",
    "    return lista\n",
    "\n",
    "def crear_circuito(n):\n",
    "    I_f = I = np.array([[1, 0],\n",
    "                  [0, 1]])\n",
    "    X_f = X = np.array([[0, 1],\n",
    "                  [1, 0]])    \n",
    "    for q in range(n-1):\n",
    "        I_f = np.kron(I_f, I)\n",
    "        X_f = np.kron(X_f, X)\n",
    "    J = Operator(1 / np.sqrt(2) * (I_f + 1j * X_f))    \n",
    "    J_dg = J.adjoint()\n",
    "    \n",
    "    if n==1:\n",
    "        dx = np.pi\n",
    "        dy = 0\n",
    "        dz = 0\n",
    "    elif n==2:    \n",
    "        dx = np.pi/2\n",
    "        dy = np.pi/4\n",
    "        dz = 0\n",
    "\n",
    "    circ = QuantumCircuit(n,n)\n",
    "    circ.append(J, range(n))\n",
    "    for q in range(n):\n",
    "        circ.append(RXGate(dx),[q])\n",
    "        circ.append(RYGate(dy),[q])\n",
    "        circ.append(RZGate(dz),[q])            \n",
    "    circ.append(J_dg, range(n))\n",
    "    circ.measure(range(n), range(n))  \n",
    "    return circ\n",
    "\n",
    "def juego(lista):\n",
    "    m = len(lista)\n",
    "    if m > 0:\n",
    "        for r in range(int(np.ceil(np.log2(m)))):\n",
    "            ganadores = []            \n",
    "            for j in range(int(np.ceil(m/2))):\n",
    "                circ = crear_circuito(2 - int(m == j+int(np.ceil(m/2))))\n",
    "                backend = Aer.get_backend('qasm_simulator')\n",
    "                job = execute(circ, backend=backend, shots=1)\n",
    "                result = job.result()\n",
    "                measurement = result.get_counts(circ)\n",
    "                for k,i in enumerate(list(measurement.keys())[0]):\n",
    "                    if i=='1':\n",
    "                        ganadores.append(lista[2*j + k])                    \n",
    "            lista = ganadores   \n",
    "            m = len(lista)         \n",
    "    return lista\n",
    "    \n",
    "for n in range(len(all_edges)):\n",
    "    print(\"Ruta {}:\".format(n))\n",
    "    paquetes_ruta = paquetes_en_ruta(caminitos, all_edges[n])\n",
    "    print(paquetes_ruta)\n",
    "    ganadores = juego(paquetes_ruta)\n",
    "    print(ganadores)\n",
    "    print(\"\")"
   ]
  },
  {
   "cell_type": "code",
   "execution_count": null,
   "id": "large-accused",
   "metadata": {},
   "outputs": [],
   "source": []
  }
 ],
 "metadata": {
  "kernelspec": {
   "display_name": "Python 3",
   "language": "python",
   "name": "python3"
  },
  "language_info": {
   "codemirror_mode": {
    "name": "ipython",
    "version": 3
   },
   "file_extension": ".py",
   "mimetype": "text/x-python",
   "name": "python",
   "nbconvert_exporter": "python",
   "pygments_lexer": "ipython3",
   "version": "3.8.5"
  }
 },
 "nbformat": 4,
 "nbformat_minor": 5
}
