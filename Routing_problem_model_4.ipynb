{
 "cells": [
  {
   "cell_type": "code",
   "execution_count": 1,
   "metadata": {
    "id": "u9Mh5tWYM5a1"
   },
   "outputs": [],
   "source": [
    "import numpy as np"
   ]
  },
  {
   "cell_type": "code",
   "execution_count": 2,
   "metadata": {
    "id": "E0ctI5wYNHCF"
   },
   "outputs": [
    {
     "name": "stdout",
     "output_type": "stream",
     "text": [
      "[[-1.          1.          0.33333333 -1.         -1.         -1.        ]\n",
      " [ 1.         -1.         -1.          0.2         1.         -1.        ]\n",
      " [ 0.33333333 -1.         -1.          0.25       -1.         -1.        ]\n",
      " [-1.          0.2         0.25       -1.          1.          1.        ]\n",
      " [-1.          1.         -1.          1.         -1.         -1.        ]\n",
      " [-1.         -1.         -1.          1.         -1.         -1.        ]]\n"
     ]
    }
   ],
   "source": [
    "RMatrix = 1 / np.matrix([[-1, 1, 3,-1,-1,-1],\n",
    "                         [ 1,-1,-1, 5, 1,-1],\n",
    "                         [ 3,-1,-1, 4,-1,-1],\n",
    "                         [-1, 5, 4,-1, 1, 1],\n",
    "                         [-1, 1,-1, 1,-1,-1],\n",
    "                         [-1,-1,-1, 1,-1,-1]])\n",
    "QMatrix = np.matrix(np.zeros(RMatrix.shape))\n",
    "print(RMatrix) "
   ]
  },
  {
   "cell_type": "code",
   "execution_count": 3,
   "metadata": {
    "id": "W7peWaMBNLq9"
   },
   "outputs": [],
   "source": [
    "gamma = 0.9\n",
    "InitialState = 0"
   ]
  },
  {
   "cell_type": "code",
   "execution_count": 4,
   "metadata": {
    "id": "Uwpu5hcfNNzs"
   },
   "outputs": [],
   "source": [
    "def AllActions(state):\n",
    "    CurrentState = RMatrix[state,]\n",
    "    AllAct = np.where(CurrentState >= 0)[1]\n",
    "    return AllAct\n",
    "\n",
    "AvAct = AllActions(InitialState) "
   ]
  },
  {
   "cell_type": "code",
   "execution_count": 5,
   "metadata": {
    "id": "pbP0ovpMNPhZ"
   },
   "outputs": [],
   "source": [
    "def NextAction(AvActRange):\n",
    "    NextAct = int(np.random.choice(AvAct,1))\n",
    "    return NextAct\n",
    "\n",
    "Action = NextAction(AvAct)"
   ]
  },
  {
   "cell_type": "code",
   "execution_count": 6,
   "metadata": {
    "id": "_WAIU39aNRRl"
   },
   "outputs": [],
   "source": [
    "def Update(CurrentState, Action, gamma):\n",
    "    MaxIndex = np.where(QMatrix[Action,] == np.max(QMatrix[Action,]))[1]\n",
    "    if MaxIndex.shape[0] > 1:\n",
    "        MaxIndex = int(np.random.choice(MaxIndex, size = 1))\n",
    "    else:\n",
    "        MaxIndex = int(MaxIndex)\n",
    "    MaxValue = QMatrix[Action, MaxIndex]\n",
    "    QMatrix[CurrentState, Action] = RMatrix[CurrentState, Action] + gamma * MaxValue\n",
    "\n",
    "Update(InitialState,Action,gamma)"
   ]
  },
  {
   "cell_type": "code",
   "execution_count": 7,
   "metadata": {
    "colab": {
     "base_uri": "https://localhost:8080/"
    },
    "id": "yPtox1wsNTO5",
    "outputId": "7a10bc30-4b1a-4f50-815c-0f6ba28c0850"
   },
   "outputs": [
    {
     "name": "stdout",
     "output_type": "stream",
     "text": [
      "Q matrix trained :\n",
      "[[  0.   100.    87.33   0.     0.     0.  ]\n",
      " [100.     0.     0.    92.   100.     0.  ]\n",
      " [ 93.33   0.     0.    92.5    0.     0.  ]\n",
      " [  0.    92.    86.5    0.   100.   100.  ]\n",
      " [  0.   100.     0.   100.     0.     0.  ]\n",
      " [  0.     0.     0.   100.     0.     0.  ]]\n"
     ]
    }
   ],
   "source": [
    "for i in range(10000):\n",
    "    CurrentState = np.random.randint(0, int(QMatrix.shape[0]))\n",
    "    AvAct = AllActions(CurrentState)\n",
    "    Action = NextAction(AvAct)\n",
    "    Update(CurrentState,Action,gamma)\n",
    "    \n",
    "print(\"Q matrix trained :\")\n",
    "print(np.round(QMatrix/np.max(QMatrix)*100, 2))"
   ]
  },
  {
   "cell_type": "code",
   "execution_count": 21,
   "metadata": {
    "id": "gYM8CmsVNX4f"
   },
   "outputs": [
    {
     "name": "stdout",
     "output_type": "stream",
     "text": [
      "No llegó.\n"
     ]
    }
   ],
   "source": [
    "inicio = 0\n",
    "final  = 2\n",
    "\n",
    "CurrentState = inicio\n",
    "Steps = [CurrentState]\n",
    "it = 0\n",
    "while (CurrentState != final) and (it<100) :\n",
    "    it += 1\n",
    "    NextStepIndex = np.where(QMatrix[CurrentState,] == np.max(QMatrix[CurrentState,]))[1]\n",
    "    if NextStepIndex.shape[0] > 1:\n",
    "        NextStepIndex = int(np.random.choice(NextStepIndex, size = 1))\n",
    "    else:\n",
    "        NextStepIndex = int(NextStepIndex)\n",
    "    Steps.append(NextStepIndex)\n",
    "    CurrentState = NextStepIndex\n",
    "\n",
    "if it==100:\n",
    "    print(\"No llegó.\")\n",
    "else:\n",
    "    print(\"Shortest path:\")\n",
    "    print(Steps)"
   ]
  },
  {
   "cell_type": "code",
   "execution_count": null,
   "metadata": {
    "id": "vg4LlHeQQ8Vh"
   },
   "outputs": [],
   "source": []
  }
 ],
 "metadata": {
  "colab": {
   "name": "RL_shortest_path.ipynb",
   "provenance": []
  },
  "kernelspec": {
   "display_name": "Python 3",
   "language": "python",
   "name": "python3"
  },
  "language_info": {
   "codemirror_mode": {
    "name": "ipython",
    "version": 3
   },
   "file_extension": ".py",
   "mimetype": "text/x-python",
   "name": "python",
   "nbconvert_exporter": "python",
   "pygments_lexer": "ipython3",
   "version": "3.8.3"
  }
 },
 "nbformat": 4,
 "nbformat_minor": 1
}
