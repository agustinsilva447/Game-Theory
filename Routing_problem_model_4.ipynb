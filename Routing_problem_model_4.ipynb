{
  "nbformat": 4,
  "nbformat_minor": 0,
  "metadata": {
    "colab": {
      "name": "RL_shortest_path.ipynb",
      "provenance": []
    },
    "kernelspec": {
      "name": "python3",
      "display_name": "Python 3"
    }
  },
  "cells": [
    {
      "cell_type": "code",
      "metadata": {
        "id": "u9Mh5tWYM5a1"
      },
      "source": [
        "import numpy as np"
      ],
      "execution_count": 1,
      "outputs": []
    },
    {
      "cell_type": "code",
      "metadata": {
        "id": "E0ctI5wYNHCF"
      },
      "source": [
        "RMatrix = 100 + np.matrix([ [-100,-10 ,-30 ,-100,-100,-100],\n",
        "                            [-10 ,-100,-100,-50 ,-10 ,-100],\n",
        "                            [-30 ,-100,-100,-40 ,-100,-100],\n",
        "                            [-100,-50 ,-40 ,-100,-10 ,-10 ],\n",
        "                            [-100,-10 ,-100,-10 ,-100,-100],\n",
        "                            [-100,-100,-100,-10 ,-100,-100]])\n",
        "QMatrix = np.matrix(np.zeros([6,6]))"
      ],
      "execution_count": 2,
      "outputs": []
    },
    {
      "cell_type": "code",
      "metadata": {
        "id": "W7peWaMBNLq9"
      },
      "source": [
        "gamma = 0.9\n",
        "InitialState = 0"
      ],
      "execution_count": 3,
      "outputs": []
    },
    {
      "cell_type": "code",
      "metadata": {
        "id": "Uwpu5hcfNNzs"
      },
      "source": [
        "def AllActions(state):\n",
        "    CurrentState = RMatrix[state,]\n",
        "    AllAct = np.where(CurrentState >= 0)[1]\n",
        "    return AllAct\n",
        "\n",
        "AvAct = AllActions(InitialState) "
      ],
      "execution_count": 4,
      "outputs": []
    },
    {
      "cell_type": "code",
      "metadata": {
        "id": "pbP0ovpMNPhZ"
      },
      "source": [
        "def NextAction(AvActRange):\n",
        "    NextAct = int(np.random.choice(AvAct,1))\n",
        "    return NextAct\n",
        "\n",
        "Action = NextAction(AvAct)"
      ],
      "execution_count": 5,
      "outputs": []
    },
    {
      "cell_type": "code",
      "metadata": {
        "id": "_WAIU39aNRRl"
      },
      "source": [
        "def Update(CurrentState, Action, gamma):\n",
        "    MaxIndex = np.where(QMatrix[Action,] == np.max(QMatrix[Action,]))[1]\n",
        "    if MaxIndex.shape[0] > 1:\n",
        "        MaxIndex = int(np.random.choice(MaxIndex, size = 1))\n",
        "    else:\n",
        "        MaxIndex = int(MaxIndex)\n",
        "    MaxValue = QMatrix[Action, MaxIndex]\n",
        "    QMatrix[CurrentState, Action] = RMatrix[CurrentState, Action] + gamma * MaxValue\n",
        "\n",
        "Update(InitialState,Action,gamma)"
      ],
      "execution_count": 6,
      "outputs": []
    },
    {
      "cell_type": "code",
      "metadata": {
        "colab": {
          "base_uri": "https://localhost:8080/"
        },
        "id": "yPtox1wsNTO5",
        "outputId": "7a10bc30-4b1a-4f50-815c-0f6ba28c0850"
      },
      "source": [
        "for i in range(10000):\n",
        "    CurrentState = np.random.randint(0, int(QMatrix.shape[0]))\n",
        "    AvAct = AllActions(CurrentState)\n",
        "    Action = NextAction(AvAct)\n",
        "    Update(CurrentState,Action,gamma)\n",
        "    \n",
        "print(\"Q matrix trained :\")\n",
        "print(QMatrix/np.max(QMatrix)*100)"
      ],
      "execution_count": 7,
      "outputs": [
        {
          "output_type": "stream",
          "text": [
            "Q matrix trained :\n",
            "[[ 90.         100.          95.77777778  90.          90.\n",
            "   90.        ]\n",
            " [100.          90.          88.          95.55555556 100.\n",
            "   90.        ]\n",
            " [ 97.77777778  90.          88.          96.66666667  90.\n",
            "   90.        ]\n",
            " [ 90.          95.55555556  94.66666667  90.         100.\n",
            "  100.        ]\n",
            " [ 90.         100.          88.         100.          90.\n",
            "   90.        ]\n",
            " [ 90.          90.          88.         100.          90.\n",
            "   90.        ]]\n"
          ],
          "name": "stdout"
        }
      ]
    },
    {
      "cell_type": "code",
      "metadata": {
        "id": "gYM8CmsVNX4f"
      },
      "source": [
        "CurrentState = 0\n",
        "Steps = [CurrentState]\n",
        "\n",
        "while CurrentState != 5:\n",
        "    NextStepIndex = np.where(QMatrix[CurrentState,] == np.max(QMatrix[CurrentState,]))[1]\n",
        "    if NextStepIndex.shape[0] > 1:\n",
        "        NextStepIndex = int(np.random.choice(NextStepIndex, size = 1))\n",
        "    else:\n",
        "        NextStepIndex = int(NextStepIndex)\n",
        "    Steps.append(NextStepIndex)\n",
        "    CurrentState = NextStepIndex"
      ],
      "execution_count": 8,
      "outputs": []
    },
    {
      "cell_type": "code",
      "metadata": {
        "colab": {
          "base_uri": "https://localhost:8080/"
        },
        "id": "1whnr3jvNfq9",
        "outputId": "5ff0d699-4b1f-421b-bde0-513461cf698a"
      },
      "source": [
        "print(\"Shortest path:\")\n",
        "print(Steps)"
      ],
      "execution_count": 9,
      "outputs": [
        {
          "output_type": "stream",
          "text": [
            "Shortest path:\n",
            "[0, 1, 4, 3, 5]\n"
          ],
          "name": "stdout"
        }
      ]
    },
    {
      "cell_type": "code",
      "metadata": {
        "id": "vg4LlHeQQ8Vh"
      },
      "source": [
        ""
      ],
      "execution_count": 9,
      "outputs": []
    }
  ]
}