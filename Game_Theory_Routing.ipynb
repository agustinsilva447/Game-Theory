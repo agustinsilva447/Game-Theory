{
 "cells": [
  {
   "cell_type": "code",
   "execution_count": 8,
   "metadata": {},
   "outputs": [],
   "source": [
    "import sys\n",
    "import numpy as np\n",
    "import networkx as nx\n",
    "import matplotlib.pyplot as plt\n",
    "import copy"
   ]
  },
  {
   "cell_type": "code",
   "execution_count": 9,
   "metadata": {},
   "outputs": [],
   "source": [
    "n1 = 5 # cantidad de ciudades\n",
    "n2 = 10  # cantidad de viajes\n",
    "n3 = 5  # distancia máxima\n",
    "a = 0\n",
    "distance = np.zeros([n1,n1])\n",
    "moves = np.zeros([n2, 2])"
   ]
  },
  {
   "cell_type": "code",
   "execution_count": 10,
   "metadata": {},
   "outputs": [
    {
     "name": "stdout",
     "output_type": "stream",
     "text": [
      "Matriz de rutas: \n",
      "[[0 4 3 0 2]\n",
      " [4 0 1 2 0]\n",
      " [3 1 0 1 0]\n",
      " [0 2 1 0 2]\n",
      " [2 0 0 2 0]]\n"
     ]
    }
   ],
   "source": [
    "while (np.linalg.matrix_rank(a)!=n1):\n",
    "    a = np.random.randint(n3, size=(n1,n1))\n",
    "    np.fill_diagonal(a,0)\n",
    "    a = np.tril(a) + np.tril(a, -1).T\n",
    "print(\"Matriz de rutas: \\n{}\".format(a))"
   ]
  },
  {
   "cell_type": "code",
   "execution_count": 11,
   "metadata": {},
   "outputs": [
    {
     "data": {
      "image/png": "[encoded data removed]",
      "text/plain": [
       "<Figure size 432x288 with 1 Axes>"
      ]
     },
     "metadata": {},
     "output_type": "display_data"
    }
   ],
   "source": [
    "net1 = nx.from_numpy_matrix(copy.deepcopy(a))\n",
    "net2 = nx.from_numpy_matrix(copy.deepcopy(a))\n",
    "for e in net2.edges():\n",
    "    net2[e[0]][e[1]]['color'] = 'black'\n",
    "\n",
    "edge_weights_list = [net2[e[0]][e[1]]['weight'] for e in net2.edges()]\n",
    "nx.draw_circular(net2, with_labels=True, width=edge_weights_list)\n",
    "plt.show()"
   ]
  },
  {
   "cell_type": "code",
   "execution_count": 12,
   "metadata": {},
   "outputs": [
    {
     "name": "stdout",
     "output_type": "stream",
     "text": [
      "Matriz de movimientos: \n",
      "[[0. 2.]\n",
      " [4. 0.]\n",
      " [4. 2.]\n",
      " [4. 1.]\n",
      " [3. 4.]\n",
      " [0. 1.]\n",
      " [1. 4.]\n",
      " [1. 4.]\n",
      " [4. 3.]\n",
      " [0. 1.]]\n"
     ]
    }
   ],
   "source": [
    "rng = np.random.default_rng()\n",
    "for i in range(n2):\n",
    "    moves[i,:] = rng.choice(n1, size=2, replace=False)\n",
    "print(\"Matriz de movimientos: \\n{}\".format(moves))"
   ]
  },
  {
   "cell_type": "code",
   "execution_count": 13,
   "metadata": {},
   "outputs": [],
   "source": [
    "colores = []\n",
    "for i in range(n2):\n",
    "    color = np.base_repr(np.random.choice(16777215), base=16)\n",
    "    colores.append('#{:0>6}'.format(color))"
   ]
  },
  {
   "cell_type": "code",
   "execution_count": 14,
   "metadata": {},
   "outputs": [
    {
     "name": "stdout",
     "output_type": "stream",
     "text": [
      "001 - Para llegar desde 0.0 hasta 2.0 hay que hacer el siguiente camino: [0, 2]\n",
      "002 - Para llegar desde 4.0 hasta 0.0 hay que hacer el siguiente camino: [4, 0]\n",
      "003 - Para llegar desde 4.0 hasta 2.0 hay que hacer el siguiente camino: [4, 3, 2]\n",
      "004 - Para llegar desde 4.0 hasta 1.0 hay que hacer el siguiente camino: [4, 3, 1]\n",
      "005 - Para llegar desde 3.0 hasta 4.0 hay que hacer el siguiente camino: [3, 4]\n",
      "006 - Para llegar desde 0.0 hasta 1.0 hay que hacer el siguiente camino: [0, 1]\n",
      "007 - Para llegar desde 1.0 hasta 4.0 hay que hacer el siguiente camino: [1, 3, 4]\n",
      "008 - Para llegar desde 1.0 hasta 4.0 hay que hacer el siguiente camino: [1, 3, 4]\n",
      "009 - Para llegar desde 4.0 hasta 3.0 hay que hacer el siguiente camino: [4, 3]\n",
      "010 - Para llegar desde 0.0 hasta 1.0 hay que hacer el siguiente camino: [0, 1]\n"
     ]
    }
   ],
   "source": [
    "all_edges = [e for e in net1.edges]\n",
    "caminitos = []\n",
    "for j in range(n2):\n",
    "    p = nx.dijkstra_path(net1,int(moves[j,0]),int(moves[j,1]))\n",
    "    cam = []\n",
    "    for e in range(len(p)-1):\n",
    "        cam.append(tuple(sorted((p[e], p[e+1]))))    \n",
    "    caminitos.append(cam)\n",
    "    print(\"{:0>3} - Para llegar desde {} hasta {} hay que hacer el siguiente camino: {}\".format(j+1, moves[j,0],moves[j,1], p))"
   ]
  },
  {
   "cell_type": "code",
   "execution_count": 15,
   "metadata": {},
   "outputs": [
    {
     "data": {
      "text/plain": [
       "[[(0, 2)],\n",
       " [(0, 4)],\n",
       " [(3, 4), (2, 3)],\n",
       " [(3, 4), (1, 3)],\n",
       " [(3, 4)],\n",
       " [(0, 1)],\n",
       " [(1, 3), (3, 4)],\n",
       " [(1, 3), (3, 4)],\n",
       " [(3, 4)],\n",
       " [(0, 1)]]"
      ]
     },
     "execution_count": 15,
     "metadata": {},
     "output_type": "execute_result"
    }
   ],
   "source": []
  },
  {
   "cell_type": "code",
   "execution_count": null,
   "metadata": {},
   "outputs": [],
   "source": []
  }
 ],
 "metadata": {
  "kernelspec": {
   "display_name": "Python 3",
   "language": "python",
   "name": "python3"
  },
  "language_info": {
   "codemirror_mode": {
    "name": "ipython",
    "version": 3
   },
   "file_extension": ".py",
   "mimetype": "text/x-python",
   "name": "python",
   "nbconvert_exporter": "python",
   "pygments_lexer": "ipython3",
   "version": "3.8.3"
  }
 },
 "nbformat": 4,
 "nbformat_minor": 4
}
