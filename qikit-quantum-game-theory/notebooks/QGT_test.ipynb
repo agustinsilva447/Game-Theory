{
 "cells": [
  {
   "cell_type": "code",
   "execution_count": 1,
   "id": "reported-clearing",
   "metadata": {},
   "outputs": [],
   "source": [
    "import sys\n",
    "sys.path.append('../')\n",
    "import numpy as np\n",
    "from backend.logic import Game\n",
    "from qiskit.visualization import plot_histogram"
   ]
  },
  {
   "cell_type": "markdown",
   "id": "convertible-pledge",
   "metadata": {},
   "source": [
    "## Prisoners Dilemma"
   ]
  },
  {
   "cell_type": "code",
   "execution_count": null,
   "id": "built-steering",
   "metadata": {},
   "outputs": [],
   "source": [
    "prisoner_game_quantum = Game(game_name='prisoner', num_players=2, protocol=\"EWL\")\n",
    "prisoner_game_quantum.display_payoffs()"
   ]
  },
  {
   "cell_type": "code",
   "execution_count": null,
   "id": "missing-latino",
   "metadata": {},
   "outputs": [],
   "source": [
    "P1_strategy = 'X'\n",
    "P2_strategy = 'S'\n",
    "combined_strategies = [P1_strategy, P2_strategy]"
   ]
  },
  {
   "cell_type": "code",
   "execution_count": null,
   "id": "western-rebecca",
   "metadata": {},
   "outputs": [],
   "source": [
    "outcomes, results = prisoner_game_quantum.play_game(combined_strategies, n_times=1)\n",
    "prisoner_game_quantum.show_results()"
   ]
  },
  {
   "cell_type": "code",
   "execution_count": null,
   "id": "varied-extreme",
   "metadata": {},
   "outputs": [],
   "source": [
    "outcomes_sim, results_sim = prisoner_game_quantum.play_game(combined_strategies, n_times = 100)\n",
    "prisoner_game_quantum.show_results()"
   ]
  },
  {
   "cell_type": "code",
   "execution_count": null,
   "id": "dietary-thirty",
   "metadata": {},
   "outputs": [],
   "source": [
    "prisoner_game_quantum._quantum_game.circ.draw(output='mpl')"
   ]
  },
  {
   "cell_type": "code",
   "execution_count": null,
   "id": "cooperative-bangkok",
   "metadata": {},
   "outputs": [],
   "source": [
    "plot_histogram(outcomes_sim)"
   ]
  },
  {
   "cell_type": "markdown",
   "id": "accepting-blank",
   "metadata": {},
   "source": [
    "## Esquina"
   ]
  },
  {
   "cell_type": "code",
   "execution_count": null,
   "id": "global-reading",
   "metadata": {},
   "outputs": [],
   "source": [
    "my_payoff_table = {'00': \"0,0\", \n",
    "                   '01': \"10,5\",\n",
    "                   '10': \"5,10\",\n",
    "                   '11': \"5,5\"} \n",
    "esquina = Game('custom', num_players=2, protocol=\"EWL\", payoff_table=my_payoff_table)\n",
    "esquina.display_payoffs()"
   ]
  },
  {
   "cell_type": "code",
   "execution_count": null,
   "id": "pediatric-grenada",
   "metadata": {},
   "outputs": [],
   "source": [
    "P1_strategy = 'X'\n",
    "P2_strategy = 'S'\n",
    "combined_strategies = [P1_strategy, P2_strategy]\n",
    "outcomes, results = esquina.play_game(combined_strategies, n_times=100)\n",
    "esquina.show_results()"
   ]
  },
  {
   "cell_type": "code",
   "execution_count": null,
   "id": "virgin-future",
   "metadata": {},
   "outputs": [],
   "source": [
    "esquina._quantum_game.circ.draw(output='mpl')"
   ]
  },
  {
   "cell_type": "code",
   "execution_count": null,
   "id": "swiss-picking",
   "metadata": {},
   "outputs": [],
   "source": [
    "plot_histogram(outcomes)"
   ]
  },
  {
   "cell_type": "markdown",
   "id": "figured-situation",
   "metadata": {},
   "source": [
    "## Minority Game"
   ]
  },
  {
   "cell_type": "code",
   "execution_count": 2,
   "id": "secret-trout",
   "metadata": {},
   "outputs": [
    {
     "name": "stdout",
     "output_type": "stream",
     "text": [
      "Game: minority\n",
      "Payoffs: \n"
     ]
    },
    {
     "data": {
      "text/html": [
       "<div>\n",
       "<style scoped>\n",
       "    .dataframe tbody tr th:only-of-type {\n",
       "        vertical-align: middle;\n",
       "    }\n",
       "\n",
       "    .dataframe tbody tr th {\n",
       "        vertical-align: top;\n",
       "    }\n",
       "\n",
       "    .dataframe thead th {\n",
       "        text-align: right;\n",
       "    }\n",
       "</style>\n",
       "<table border=\"1\" class=\"dataframe\">\n",
       "  <thead>\n",
       "    <tr style=\"text-align: right;\">\n",
       "      <th></th>\n",
       "      <th>outcome</th>\n",
       "      <th>payoffs</th>\n",
       "    </tr>\n",
       "  </thead>\n",
       "  <tbody>\n",
       "    <tr>\n",
       "      <th>0</th>\n",
       "      <td>0000</td>\n",
       "      <td>(0.0, 0.0, 0.0, 0.0)</td>\n",
       "    </tr>\n",
       "    <tr>\n",
       "      <th>1</th>\n",
       "      <td>0001</td>\n",
       "      <td>(0.0, 0.0, 0.0, 1.0)</td>\n",
       "    </tr>\n",
       "    <tr>\n",
       "      <th>2</th>\n",
       "      <td>0010</td>\n",
       "      <td>(0.0, 0.0, 1.0, 0.0)</td>\n",
       "    </tr>\n",
       "    <tr>\n",
       "      <th>3</th>\n",
       "      <td>0011</td>\n",
       "      <td>(0.0, 0.0, 0.0, 0.0)</td>\n",
       "    </tr>\n",
       "    <tr>\n",
       "      <th>4</th>\n",
       "      <td>0100</td>\n",
       "      <td>(0.0, 1.0, 0.0, 0.0)</td>\n",
       "    </tr>\n",
       "    <tr>\n",
       "      <th>5</th>\n",
       "      <td>0101</td>\n",
       "      <td>(0.0, 0.0, 0.0, 0.0)</td>\n",
       "    </tr>\n",
       "    <tr>\n",
       "      <th>6</th>\n",
       "      <td>0110</td>\n",
       "      <td>(0.0, 0.0, 0.0, 0.0)</td>\n",
       "    </tr>\n",
       "    <tr>\n",
       "      <th>7</th>\n",
       "      <td>0111</td>\n",
       "      <td>(1.0, 0.0, 0.0, 0.0)</td>\n",
       "    </tr>\n",
       "    <tr>\n",
       "      <th>8</th>\n",
       "      <td>1000</td>\n",
       "      <td>(1.0, 0.0, 0.0, 0.0)</td>\n",
       "    </tr>\n",
       "    <tr>\n",
       "      <th>9</th>\n",
       "      <td>1001</td>\n",
       "      <td>(0.0, 0.0, 0.0, 0.0)</td>\n",
       "    </tr>\n",
       "    <tr>\n",
       "      <th>10</th>\n",
       "      <td>1010</td>\n",
       "      <td>(0.0, 0.0, 0.0, 0.0)</td>\n",
       "    </tr>\n",
       "    <tr>\n",
       "      <th>11</th>\n",
       "      <td>1011</td>\n",
       "      <td>(0.0, 1.0, 0.0, 0.0)</td>\n",
       "    </tr>\n",
       "    <tr>\n",
       "      <th>12</th>\n",
       "      <td>1100</td>\n",
       "      <td>(0.0, 0.0, 0.0, 0.0)</td>\n",
       "    </tr>\n",
       "    <tr>\n",
       "      <th>13</th>\n",
       "      <td>1101</td>\n",
       "      <td>(0.0, 0.0, 1.0, 0.0)</td>\n",
       "    </tr>\n",
       "    <tr>\n",
       "      <th>14</th>\n",
       "      <td>1110</td>\n",
       "      <td>(0.0, 0.0, 0.0, 1.0)</td>\n",
       "    </tr>\n",
       "    <tr>\n",
       "      <th>15</th>\n",
       "      <td>1111</td>\n",
       "      <td>(0.0, 0.0, 0.0, 0.0)</td>\n",
       "    </tr>\n",
       "  </tbody>\n",
       "</table>\n",
       "</div>"
      ],
      "text/plain": [
       "   outcome               payoffs\n",
       "0     0000  (0.0, 0.0, 0.0, 0.0)\n",
       "1     0001  (0.0, 0.0, 0.0, 1.0)\n",
       "2     0010  (0.0, 0.0, 1.0, 0.0)\n",
       "3     0011  (0.0, 0.0, 0.0, 0.0)\n",
       "4     0100  (0.0, 1.0, 0.0, 0.0)\n",
       "5     0101  (0.0, 0.0, 0.0, 0.0)\n",
       "6     0110  (0.0, 0.0, 0.0, 0.0)\n",
       "7     0111  (1.0, 0.0, 0.0, 0.0)\n",
       "8     1000  (1.0, 0.0, 0.0, 0.0)\n",
       "9     1001  (0.0, 0.0, 0.0, 0.0)\n",
       "10    1010  (0.0, 0.0, 0.0, 0.0)\n",
       "11    1011  (0.0, 1.0, 0.0, 0.0)\n",
       "12    1100  (0.0, 0.0, 0.0, 0.0)\n",
       "13    1101  (0.0, 0.0, 1.0, 0.0)\n",
       "14    1110  (0.0, 0.0, 0.0, 1.0)\n",
       "15    1111  (0.0, 0.0, 0.0, 0.0)"
      ]
     },
     "execution_count": 2,
     "metadata": {},
     "output_type": "execute_result"
    }
   ],
   "source": [
    "minority_game = Game('minority', num_players = 4, protocol=\"EWL\")\n",
    "minority_game.set_protocol(\"EWL\", backend = 'simulator')\n",
    "minority_game.display_payoffs()"
   ]
  },
  {
   "cell_type": "code",
   "execution_count": 3,
   "id": "labeled-philadelphia",
   "metadata": {},
   "outputs": [],
   "source": [
    "P1_strategy = ['Rz(-3*pi/8)', 'Ry(pi/2)', 'Rz(pi/2)']\n",
    "P2_strategy = ['Rz(-3*pi/8)', 'Ry(pi/2)', 'Rz(pi/2)']\n",
    "P3_strategy = ['Rz(-3*pi/8)', 'Ry(pi/2)', 'Rz(pi/2)']\n",
    "P4_strategy = ['Rz(-3*pi/8)', 'Ry(pi/2)', 'Rz(pi/2)']\n",
    "combined_strategies = [P1_strategy, P2_strategy, P3_strategy, P4_strategy]"
   ]
  },
  {
   "cell_type": "code",
   "execution_count": 4,
   "id": "bridal-collection",
   "metadata": {},
   "outputs": [
    {
     "name": "stdout",
     "output_type": "stream",
     "text": [
      "Executing circuit ....\n",
      "Circuit running ...\n",
      "Circuit finished running, getting counts ...\n"
     ]
    }
   ],
   "source": [
    "outcomes, results = minority_game.play_game(combined_strategies, n_times=1000)"
   ]
  },
  {
   "cell_type": "code",
   "execution_count": 5,
   "id": "brief-individual",
   "metadata": {},
   "outputs": [
    {
     "data": {
      "image/png": "[encoded data removed]",
      "text/plain": [
       "<Figure size 929.397x325.08 with 1 Axes>"
      ]
     },
     "execution_count": 5,
     "metadata": {},
     "output_type": "execute_result"
    }
   ],
   "source": [
    "minority_game._quantum_game.draw_circuit()"
   ]
  },
  {
   "cell_type": "code",
   "execution_count": 6,
   "id": "jewish-spouse",
   "metadata": {},
   "outputs": [
    {
     "data": {
      "text/html": [
       "<div>\n",
       "<style scoped>\n",
       "    .dataframe tbody tr th:only-of-type {\n",
       "        vertical-align: middle;\n",
       "    }\n",
       "\n",
       "    .dataframe tbody tr th {\n",
       "        vertical-align: top;\n",
       "    }\n",
       "\n",
       "    .dataframe thead th {\n",
       "        text-align: right;\n",
       "    }\n",
       "</style>\n",
       "<table border=\"1\" class=\"dataframe\">\n",
       "  <thead>\n",
       "    <tr style=\"text-align: right;\">\n",
       "      <th></th>\n",
       "      <th>Outcome</th>\n",
       "      <th>Payoffs</th>\n",
       "      <th>Winners</th>\n",
       "      <th>num_times</th>\n",
       "    </tr>\n",
       "  </thead>\n",
       "  <tbody>\n",
       "    <tr>\n",
       "      <th>0</th>\n",
       "      <td>1000</td>\n",
       "      <td>[1.0, 0.0, 0.0, 0.0]</td>\n",
       "      <td>Player 1</td>\n",
       "      <td>121</td>\n",
       "    </tr>\n",
       "    <tr>\n",
       "      <th>1</th>\n",
       "      <td>0100</td>\n",
       "      <td>[0.0, 1.0, 0.0, 0.0]</td>\n",
       "      <td>Player 2</td>\n",
       "      <td>113</td>\n",
       "    </tr>\n",
       "    <tr>\n",
       "      <th>2</th>\n",
       "      <td>0010</td>\n",
       "      <td>[0.0, 0.0, 1.0, 0.0]</td>\n",
       "      <td>Player 3</td>\n",
       "      <td>131</td>\n",
       "    </tr>\n",
       "    <tr>\n",
       "      <th>3</th>\n",
       "      <td>1110</td>\n",
       "      <td>[0.0, 0.0, 0.0, 1.0]</td>\n",
       "      <td>Player 4</td>\n",
       "      <td>137</td>\n",
       "    </tr>\n",
       "    <tr>\n",
       "      <th>4</th>\n",
       "      <td>0001</td>\n",
       "      <td>[0.0, 0.0, 0.0, 1.0]</td>\n",
       "      <td>Player 4</td>\n",
       "      <td>121</td>\n",
       "    </tr>\n",
       "    <tr>\n",
       "      <th>5</th>\n",
       "      <td>1101</td>\n",
       "      <td>[0.0, 0.0, 1.0, 0.0]</td>\n",
       "      <td>Player 3</td>\n",
       "      <td>125</td>\n",
       "    </tr>\n",
       "    <tr>\n",
       "      <th>6</th>\n",
       "      <td>1011</td>\n",
       "      <td>[0.0, 1.0, 0.0, 0.0]</td>\n",
       "      <td>Player 2</td>\n",
       "      <td>130</td>\n",
       "    </tr>\n",
       "    <tr>\n",
       "      <th>7</th>\n",
       "      <td>0111</td>\n",
       "      <td>[1.0, 0.0, 0.0, 0.0]</td>\n",
       "      <td>Player 1</td>\n",
       "      <td>122</td>\n",
       "    </tr>\n",
       "  </tbody>\n",
       "</table>\n",
       "</div>"
      ],
      "text/plain": [
       "  Outcome               Payoffs   Winners  num_times\n",
       "0    1000  [1.0, 0.0, 0.0, 0.0]  Player 1        121\n",
       "1    0100  [0.0, 1.0, 0.0, 0.0]  Player 2        113\n",
       "2    0010  [0.0, 0.0, 1.0, 0.0]  Player 3        131\n",
       "3    1110  [0.0, 0.0, 0.0, 1.0]  Player 4        137\n",
       "4    0001  [0.0, 0.0, 0.0, 1.0]  Player 4        121\n",
       "5    1101  [0.0, 0.0, 1.0, 0.0]  Player 3        125\n",
       "6    1011  [0.0, 1.0, 0.0, 0.0]  Player 2        130\n",
       "7    0111  [1.0, 0.0, 0.0, 0.0]  Player 1        122"
      ]
     },
     "execution_count": 6,
     "metadata": {},
     "output_type": "execute_result"
    }
   ],
   "source": [
    "minority_game.show_results()"
   ]
  },
  {
   "cell_type": "code",
   "execution_count": 7,
   "id": "obvious-thriller",
   "metadata": {},
   "outputs": [
    {
     "data": {
      "image/png": "[encoded data removed]",
      "text/plain": [
       "<Figure size 504x360 with 1 Axes>"
      ]
     },
     "execution_count": 7,
     "metadata": {},
     "output_type": "execute_result"
    }
   ],
   "source": [
    "plot_histogram(outcomes)"
   ]
  },
  {
   "cell_type": "code",
   "execution_count": null,
   "id": "increasing-romania",
   "metadata": {},
   "outputs": [],
   "source": []
  }
 ],
 "metadata": {
  "kernelspec": {
   "display_name": "Python 3",
   "language": "python",
   "name": "python3"
  },
  "language_info": {
   "codemirror_mode": {
    "name": "ipython",
    "version": 3
   },
   "file_extension": ".py",
   "mimetype": "text/x-python",
   "name": "python",
   "nbconvert_exporter": "python",
   "pygments_lexer": "ipython3",
   "version": "3.8.5"
  }
 },
 "nbformat": 4,
 "nbformat_minor": 5
}
