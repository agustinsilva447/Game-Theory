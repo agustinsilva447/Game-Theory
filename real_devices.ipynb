{
 "cells": [
  {
   "cell_type": "code",
   "execution_count": 1,
   "metadata": {},
   "outputs": [],
   "source": [
    "import numpy as np\n",
    "import matplotlib.pyplot as plt\n",
    "\n",
    "from qiskit import *\n",
    "from qiskit import IBMQ\n",
    "from qiskit.visualization import plot_histogram\n",
    "from qiskit.providers.ibmq import least_busy\n",
    "\n",
    "from qiskit import QuantumCircuit, Aer, execute\n",
    "from qiskit.quantum_info import Operator\n",
    "from qiskit.extensions import RXGate, RYGate, RZGate"
   ]
  },
  {
   "cell_type": "code",
   "execution_count": 2,
   "metadata": {},
   "outputs": [
    {
     "name": "stdout",
     "output_type": "stream",
     "text": [
      "     ┌──────────┐┌─────────┐┌─────────┐┌───────┐┌──────────┐┌─┐   \n",
      "q_0: ┤0         ├┤ RX(π/2) ├┤ RY(π/4) ├┤ RZ(0) ├┤0         ├┤M├───\n",
      "     │  unitary │├─────────┤├─────────┤├───────┤│  unitary │└╥┘┌─┐\n",
      "q_1: ┤1         ├┤ RX(π/2) ├┤ RY(π/4) ├┤ RZ(0) ├┤1         ├─╫─┤M├\n",
      "     └──────────┘└─────────┘└─────────┘└───────┘└──────────┘ ║ └╥┘\n",
      "c: 2/════════════════════════════════════════════════════════╩══╩═\n",
      "                                                             0  1 \n"
     ]
    }
   ],
   "source": [
    "n = 2\n",
    "\n",
    "I_f = np.array([[1, 0],\n",
    "              [0, 1]]) \n",
    "I = np.array([[1, 0],\n",
    "              [0, 1]])\n",
    "X_f = np.array([[0, 1],\n",
    "              [1, 0]]) \n",
    "X = np.array([[0, 1],\n",
    "              [1, 0]])    \n",
    "\n",
    "for q in range(n-1):\n",
    "    I_f = np.kron(I_f, I)\n",
    "    X_f = np.kron(X_f, X)\n",
    "J = Operator(1 / np.sqrt(2) * (I_f + 1j * X_f))    \n",
    "J_dg = J.adjoint()\n",
    "circ = QuantumCircuit(n,n)\n",
    "circ.append(J, range(n))\n",
    "\n",
    "dx = np.pi/2\n",
    "dy = np.pi/4\n",
    "dz = 0\n",
    "\n",
    "for q in range(n):\n",
    "    circ.append(RXGate(dx),[q])\n",
    "    circ.append(RYGate(dy),[q])\n",
    "    circ.append(RZGate(dz),[q])         \n",
    "circ.append(J_dg, range(n))\n",
    "circ.measure(range(n), range(n)) \n",
    "\n",
    "print(circ)"
   ]
  },
  {
   "cell_type": "code",
   "execution_count": 3,
   "metadata": {},
   "outputs": [
    {
     "data": {
      "text/plain": [
       "[<IBMQSimulator('ibmq_qasm_simulator') from IBMQ(hub='ibm-q', group='open', project='main')>,\n",
       " <IBMQBackend('ibmqx2') from IBMQ(hub='ibm-q', group='open', project='main')>,\n",
       " <IBMQBackend('ibmq_16_melbourne') from IBMQ(hub='ibm-q', group='open', project='main')>,\n",
       " <IBMQBackend('ibmq_armonk') from IBMQ(hub='ibm-q', group='open', project='main')>,\n",
       " <IBMQBackend('ibmq_athens') from IBMQ(hub='ibm-q', group='open', project='main')>,\n",
       " <IBMQBackend('ibmq_santiago') from IBMQ(hub='ibm-q', group='open', project='main')>,\n",
       " <IBMQBackend('ibmq_lima') from IBMQ(hub='ibm-q', group='open', project='main')>,\n",
       " <IBMQBackend('ibmq_belem') from IBMQ(hub='ibm-q', group='open', project='main')>,\n",
       " <IBMQBackend('ibmq_quito') from IBMQ(hub='ibm-q', group='open', project='main')>,\n",
       " <IBMQSimulator('simulator_statevector') from IBMQ(hub='ibm-q', group='open', project='main')>,\n",
       " <IBMQSimulator('simulator_mps') from IBMQ(hub='ibm-q', group='open', project='main')>,\n",
       " <IBMQSimulator('simulator_extended_stabilizer') from IBMQ(hub='ibm-q', group='open', project='main')>,\n",
       " <IBMQSimulator('simulator_stabilizer') from IBMQ(hub='ibm-q', group='open', project='main')>,\n",
       " <IBMQBackend('ibmq_manila') from IBMQ(hub='ibm-q', group='open', project='main')>]"
      ]
     },
     "execution_count": 3,
     "metadata": {},
     "output_type": "execute_result"
    }
   ],
   "source": [
    "TOKEN = \"9f38b2ed2b48336bd34f99cf232fdeb170157891f5f3136667531fc1b0ad58b2da2e8eb6be9ff4c6398b7aac4315257691f4e0d8104dfceffaa2dfc19a0907b6\"\n",
    "IBMQ.delete_account()\n",
    "IBMQ.save_account(TOKEN, overwrite=True)\n",
    "provider = IBMQ.load_account()\n",
    "provider.backends()"
   ]
  },
  {
   "cell_type": "code",
   "execution_count": 4,
   "metadata": {},
   "outputs": [
    {
     "name": "stdout",
     "output_type": "stream",
     "text": [
      "{'10': 4971, '01': 5029}\n"
     ]
    },
    {
     "data": {
      "image/png": "[encoded data removed]",
      "text/plain": [
       "<Figure size 504x360 with 1 Axes>"
      ]
     },
     "execution_count": 4,
     "metadata": {},
     "output_type": "execute_result"
    }
   ],
   "source": [
    "backend1 = Aer.get_backend('qasm_simulator')\n",
    "job1 = execute(circ, backend=backend1, shots=10000)\n",
    "result1 = job1.result()\n",
    "measurement1 = result1.get_counts(circ)\n",
    "print(measurement1)\n",
    "plot_histogram(measurement1)"
   ]
  },
  {
   "cell_type": "code",
   "execution_count": null,
   "metadata": {},
   "outputs": [],
   "source": [
    "backend2 = provider.get_backend('ibmq_16_melbourne')\n",
    "job2 = execute(circ, backend=backend2, shots=8192)\n",
    "result2 = job2.result()\n",
    "measurement2 = result2.get_counts(circ)\n",
    "print(measurement2)\n",
    "plot_histogram(measurement2)"
   ]
  },
  {
   "cell_type": "code",
   "execution_count": null,
   "metadata": {},
   "outputs": [],
   "source": [
    "backend3 = provider.get_backend('ibmq_athens')\n",
    "job3 = execute(circ, backend=backend3, shots=8192)\n",
    "result3 = job3.result()\n",
    "measurement3 = result3.get_counts(circ)\n",
    "print(measurement3)\n",
    "plot_histogram(measurement3)"
   ]
  },
  {
   "cell_type": "code",
   "execution_count": null,
   "metadata": {},
   "outputs": [],
   "source": [
    "backend4 = provider.get_backend('ibmq_manila')\n",
    "job4 = execute(circ, backend=backend4, shots=8192)\n",
    "result4 = job4.result()\n",
    "measurement4 = result4.get_counts(circ)\n",
    "print(measurement4)\n",
    "plot_histogram(measurement4)"
   ]
  },
  {
   "cell_type": "code",
   "execution_count": null,
   "metadata": {},
   "outputs": [],
   "source": [
    "backend5 = provider.get_backend('ibmq_santiago')\n",
    "job5 = execute(circ, backend=backend5, shots=8192)\n",
    "result5 = job5.result()\n",
    "measurement5 = result5.get_counts(circ)\n",
    "print(measurement5)\n",
    "plot_histogram(measurement5)"
   ]
  },
  {
   "cell_type": "code",
   "execution_count": null,
   "metadata": {},
   "outputs": [],
   "source": []
  }
 ],
 "metadata": {
  "kernelspec": {
   "display_name": "Python 3",
   "language": "python",
   "name": "python3"
  },
  "language_info": {
   "codemirror_mode": {
    "name": "ipython",
    "version": 3
   },
   "file_extension": ".py",
   "mimetype": "text/x-python",
   "name": "python",
   "nbconvert_exporter": "python",
   "pygments_lexer": "ipython3",
   "version": "3.7.3"
  }
 },
 "nbformat": 4,
 "nbformat_minor": 2
}
