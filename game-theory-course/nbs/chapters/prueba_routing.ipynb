{
 "cells": [
  {
   "cell_type": "code",
   "execution_count": 1,
   "metadata": {},
   "outputs": [],
   "source": [
    "import numpy as np\n",
    "import nashpy as nash"
   ]
  },
  {
   "cell_type": "code",
   "execution_count": 2,
   "metadata": {},
   "outputs": [
    {
     "name": "stdout",
     "output_type": "stream",
     "text": [
      "A:\n",
      " [[ 0 35 35]\n",
      " [30 30 30]\n",
      " [20 20 20]]\n",
      "B:\n",
      " [[ 0 20 10]\n",
      " [30 20 10]\n",
      " [30 20 10]]\n",
      "Eqs:\n",
      " [[[1.         0.         0.        ]\n",
      "  [0.         1.         0.        ]]\n",
      "\n",
      " [[0.         1.         0.        ]\n",
      "  [1.         0.         0.        ]]\n",
      "\n",
      " [[0.33333333 0.66666667 0.        ]\n",
      "  [0.14285714 0.85714286 0.        ]]]\n"
     ]
    }
   ],
   "source": [
    "n_max = 40\n",
    "A = n_max - np.array([[n_max, 5, 5],\n",
    "              [10, 10, 10],\n",
    "              [20, 20, 20]])\n",
    "B = n_max - np.array([[n_max, 20, 30],\n",
    "              [10, 20, 30],\n",
    "              [10, 20, 30]])\n",
    "juego = nash.Game(A, B)\n",
    "eqs = np.array(list(juego.support_enumeration()))\n",
    "\n",
    "print(\"A:\\n\", A)\n",
    "print(\"B:\\n\", B)\n",
    "print(\"Eqs:\\n\",eqs)"
   ]
  },
  {
   "cell_type": "code",
   "execution_count": 3,
   "metadata": {},
   "outputs": [
    {
     "name": "stdout",
     "output_type": "stream",
     "text": [
      "Estrategia 0: Sigmas: [35. 20.].\n",
      "Estrategia 1: Sigmas: [30. 30.].\n",
      "Estrategia 2: Sigmas: [30. 20.].\n"
     ]
    }
   ],
   "source": [
    "for i in range(eqs.shape[0]):\n",
    "    sigma_r = eqs[i][0]\n",
    "    sigma_c = eqs[i][1]\n",
    "    sigmas = juego[sigma_r, sigma_c]\n",
    "    print(\"Estrategia {}: Sigmas: {}.\".format(i,sigmas))"
   ]
  },
  {
   "cell_type": "code",
   "execution_count": null,
   "metadata": {},
   "outputs": [],
   "source": []
  }
 ],
 "metadata": {
  "kernelspec": {
   "display_name": "Python 3",
   "language": "python",
   "name": "python3"
  },
  "language_info": {
   "codemirror_mode": {
    "name": "ipython",
    "version": 3
   },
   "file_extension": ".py",
   "mimetype": "text/x-python",
   "name": "python",
   "nbconvert_exporter": "python",
   "pygments_lexer": "ipython3",
   "version": "3.8.3"
  }
 },
 "nbformat": 4,
 "nbformat_minor": 4
}
