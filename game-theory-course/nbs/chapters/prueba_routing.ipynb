{
 "cells": [
  {
   "cell_type": "code",
   "execution_count": 1,
   "metadata": {},
   "outputs": [],
   "source": [
    "import numpy as np\n",
    "import nashpy as nash"
   ]
  },
  {
   "cell_type": "code",
   "execution_count": 2,
   "metadata": {},
   "outputs": [
    {
     "name": "stdout",
     "output_type": "stream",
     "text": [
      "A:\n",
      " [[ 0 20]\n",
      " [10 10]]\n",
      "B:\n",
      " [[ 0  5]\n",
      " [10  5]]\n",
      "Eqs:\n",
      " [[[1.  0. ]\n",
      "  [0.  1. ]]\n",
      "\n",
      " [[0.  1. ]\n",
      "  [1.  0. ]]\n",
      "\n",
      " [[0.5 0.5]\n",
      "  [0.5 0.5]]]\n"
     ]
    }
   ],
   "source": [
    "A = np.array([[0, 20],\n",
    "              [10, 10]])\n",
    "B = np.array([[0, 5],\n",
    "              [10, 5]])\n",
    "\n",
    "juego = nash.Game(A, B)\n",
    "eqs = np.array(list(juego.support_enumeration()))\n",
    "\n",
    "print(\"A:\\n\", A)\n",
    "print(\"B:\\n\", B)\n",
    "print(\"Eqs:\\n\",eqs)"
   ]
  },
  {
   "cell_type": "code",
   "execution_count": 3,
   "metadata": {},
   "outputs": [
    {
     "name": "stdout",
     "output_type": "stream",
     "text": [
      "Estrategia 0: Sigmas: [20.  5.].\n",
      "Estrategia 1: Sigmas: [10. 10.].\n",
      "Estrategia 2: Sigmas: [10.  5.].\n"
     ]
    }
   ],
   "source": [
    "best = 0\n",
    "i_best = 0\n",
    "for i in range(eqs.shape[0]):\n",
    "    sigma_r = eqs[i][0]\n",
    "    sigma_c = eqs[i][1]\n",
    "    sigmas = juego[sigma_r, sigma_c]\n",
    "    print(\"Estrategia {}: Sigmas: {}.\".format(i,sigmas))\n",
    "    if (sigmas[0] + sigmas[1])>(best):\n",
    "        best = sigmas[0] + sigmas[1]\n",
    "        i_best = i\n",
    "        "
   ]
  },
  {
   "cell_type": "code",
   "execution_count": 4,
   "metadata": {},
   "outputs": [
    {
     "name": "stdout",
     "output_type": "stream",
     "text": [
      "La mejor estrategia es la número 0. El payoff máximo es 25.0.\n",
      "Jugador: 1. Ruta: 0.\n",
      "Jugador: 2. Ruta: 1.\n"
     ]
    }
   ],
   "source": [
    "print(\"La mejor estrategia es la número {}. El payoff máximo es {}.\".format(i_best, best))\n",
    "ruta_1 = np.where(np.array(eqs[i_best][0]) == 1)[0][0]\n",
    "ruta_2 = np.where(np.array(eqs[i_best][1]) == 1)[0][0]\n",
    "print(\"Jugador: 1. Ruta: {}.\".format(ruta_1))\n",
    "print(\"Jugador: 2. Ruta: {}.\".format(ruta_2))"
   ]
  },
  {
   "cell_type": "code",
   "execution_count": null,
   "metadata": {},
   "outputs": [],
   "source": []
  }
 ],
 "metadata": {
  "kernelspec": {
   "display_name": "Python 3",
   "language": "python",
   "name": "python3"
  },
  "language_info": {
   "codemirror_mode": {
    "name": "ipython",
    "version": 3
   },
   "file_extension": ".py",
   "mimetype": "text/x-python",
   "name": "python",
   "nbconvert_exporter": "python",
   "pygments_lexer": "ipython3",
   "version": "3.8.3"
  }
 },
 "nbformat": 4,
 "nbformat_minor": 4
}
