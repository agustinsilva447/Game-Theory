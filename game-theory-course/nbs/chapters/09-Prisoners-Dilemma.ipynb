{
 "cells": [
  {
   "cell_type": "markdown",
   "metadata": {},
   "source": [
    "# Prisoners Dilemma\n",
    "\n",
    "[Video](https://youtu.be/DivraIWIwlQ?list=PLnC5h3PY-znxMsG0TRYGOyrnEO-QhVwLb)\n",
    "\n",
    "One big area of repeated games is specifically the Prisoner's Dilemma. We have previously defined this as the following game:\n",
    "\n",
    "$$\n",
    "A =\n",
    "\\begin{pmatrix}\n",
    "    3 & 0\\\\\n",
    "    5 & 1\n",
    "\\end{pmatrix}\\qquad\n",
    "B =\n",
    "\\begin{pmatrix}\n",
    "    3 & 5\\\\\n",
    "    0 & 1\n",
    "\\end{pmatrix}\n",
    "$$\n",
    "\n",
    "The general form is:\n",
    "\n",
    "\n",
    "$$\n",
    "A =\n",
    "\\begin{pmatrix}\n",
    "    R & S\\\\\n",
    "    T & P\n",
    "\\end{pmatrix}\\qquad\n",
    "B =\n",
    "\\begin{pmatrix}\n",
    "    R & T\\\\\n",
    "    S & P\n",
    "\\end{pmatrix}\n",
    "$$\n",
    "\n",
    "with the following constraints:\n",
    "\n",
    "$$T > R > P > S$$\n",
    "$$2R > T + S$$\n",
    "\n",
    "- The first constraint ensures that the second action \"Defect\" dominates the first action \"Cooperate\".\n",
    "- The second constraint ensures that a social dilemma arises: the sum of the utilities to both players is best when they both cooperate.\n",
    "\n",
    "This game is a good model of agent (human, etc) interaction: a player can choose to take a slight loss of utility for the benefit of the other play **and** themselves.\n",
    "\n",
    "As a single one shot game there is not much more to say about the Prisoner's dilemma. It becomes fascinating when studied as a repeated game.\n",
    "\n",
    "---\n",
    "\n",
    "## Axelrod's tournaments\n",
    "\n",
    "[Video](https://youtu.be/Vfcv7k5PRvE?list=PLnC5h3PY-znxMsG0TRYGOyrnEO-QhVwLb)\n",
    "\n",
    "\n",
    "In 1980, Robert Axelrod (a political scientist) invited submissions to a computer tournament version of an iterated prisoners dilemma. This was described in a 1980 paper titled [\"Effective Choice in the Prisoner's Dilemma\"](http://journals.sagepub.com/doi/abs/10.1177/002200278002400101).\n",
    "\n",
    "### First tournament\n",
    "\n",
    "- 15 strategies submitted. \n",
    "- Round robin tournament with 200 stages including a 16th player who played uniformly randomly.\n",
    "- Some very complicated strategies, including for example a strategy that used a $\\chi^2$ test to try and identify strategies that were acting randomly. You can read more about this tournament here: http://axelrod.readthedocs.io/en/stable/reference/overview_of_strategies.html#axelrod-s-first-tournament\n",
    "- The winner (average score) was in fact a very simple strategy: Tit For Tat. This strategy starts by cooperating and then repeats the opponents previous move.\n",
    "\n",
    "The fact that Tit For Tat won garnered a lot of research (still ongoing) as it showed a mathematical model of how cooperative behaviour can emerge in complex situations (why are we nice to each other?).\n",
    "\n",
    "---\n",
    "\n",
    "There is a Python library (`axelrod`) with over 200 strategies that can be used to reproduce this work. You can read the documentation for it here: http://axelrod.readthedocs.io."
   ]
  },
  {
   "cell_type": "code",
   "execution_count": 2,
   "metadata": {
    "tags": [
     "nbval-ignore-output"
    ]
   },
   "outputs": [
    {
     "ename": "AttributeError",
     "evalue": "module 'axelrod' has no attribute 'seed'",
     "output_type": "error",
     "traceback": [
      "\u001b[1;31m---------------------------------------------------------------------------\u001b[0m",
      "\u001b[1;31mAttributeError\u001b[0m                            Traceback (most recent call last)",
      "\u001b[1;32m<ipython-input-2-29baeef8b476>\u001b[0m in \u001b[0;36m<module>\u001b[1;34m\u001b[0m\n\u001b[0;32m      3\u001b[0m \u001b[1;32mimport\u001b[0m \u001b[0maxelrod\u001b[0m \u001b[1;32mas\u001b[0m \u001b[0maxl\u001b[0m\u001b[1;33m\u001b[0m\u001b[1;33m\u001b[0m\u001b[0m\n\u001b[0;32m      4\u001b[0m \u001b[1;33m\u001b[0m\u001b[0m\n\u001b[1;32m----> 5\u001b[1;33m \u001b[0maxl\u001b[0m\u001b[1;33m.\u001b[0m\u001b[0mseed\u001b[0m\u001b[1;33m(\u001b[0m\u001b[1;36m0\u001b[0m\u001b[1;33m)\u001b[0m  \u001b[1;31m# Make this reproducible\u001b[0m\u001b[1;33m\u001b[0m\u001b[1;33m\u001b[0m\u001b[0m\n\u001b[0m\u001b[0;32m      6\u001b[0m players = [\n\u001b[0;32m      7\u001b[0m     \u001b[0maxl\u001b[0m\u001b[1;33m.\u001b[0m\u001b[0mTitForTat\u001b[0m\u001b[1;33m(\u001b[0m\u001b[1;33m)\u001b[0m\u001b[1;33m,\u001b[0m\u001b[1;33m\u001b[0m\u001b[1;33m\u001b[0m\u001b[0m\n",
      "\u001b[1;31mAttributeError\u001b[0m: module 'axelrod' has no attribute 'seed'"
     ]
    }
   ],
   "source": [
    "%matplotlib inline\n",
    "\n",
    "import axelrod as axl\n",
    "\n",
    "axl.seed(0)  # Make this reproducible\n",
    "players = [\n",
    "    axl.TitForTat(),\n",
    "    axl.FirstByTidemanAndChieruzzi(),\n",
    "    axl.FirstByNydegger(),\n",
    "    axl.FirstByGrofman(),\n",
    "    axl.FirstByShubik(),\n",
    "    axl.FirstBySteinAndRapoport(),\n",
    "    axl.Grudger(),\n",
    "    axl.FirstByDavis(),\n",
    "    axl.FirstByGraaskamp(),\n",
    "    axl.FirstByDowning(),\n",
    "    axl.FirstByFeld(),\n",
    "    axl.FirstByJoss(),\n",
    "    axl.FirstByTullock(),\n",
    "    axl.FirstByAnonymous(),\n",
    "    axl.Random(),\n",
    "]\n",
    "tournament = axl.Tournament(players, turns=200, repetitions=20)\n",
    "results = tournament.play()\n",
    "plot = axl.Plot(results)\n",
    "plot.boxplot();"
   ]
  },
  {
   "cell_type": "markdown",
   "metadata": {},
   "source": [
    "We see that Tit For Tat does in fact **not** win this tournament (you can find a tutorial on reproducing the original work at https://axelrod.readthedocs.io/en/stable/tutorials/getting_started/running_axelrods_first_tournament.html). This highlights that there is no such thing as a best strategy but a best strategy for a particular environment.\n",
    "\n",
    "Here is some of the source code for the strategies:"
   ]
  },
  {
   "cell_type": "code",
   "execution_count": null,
   "metadata": {},
   "outputs": [],
   "source": [
    "axl.TitForTat.strategy??"
   ]
  },
  {
   "cell_type": "markdown",
   "metadata": {},
   "source": [
    "Tit For Tat:\n",
    "\n",
    "```python\n",
    "Signature: axl.TitForTat.strategy(self, opponent:axelrod.player.Player) -> str\n",
    "Source:   \n",
    "    def strategy(self, opponent: Player) -> Action:\n",
    "        \"\"\"This is the actual strategy\"\"\"\n",
    "        # First move\n",
    "        if not self.history:\n",
    "            return C\n",
    "        # React to the opponent's last move\n",
    "        if opponent.history[-1] == D:\n",
    "            return D\n",
    "        return C\n",
    "File:      ~/anaconda3/envs/gt/lib/python3.6/site-packages/axelrod/strategies/titfortat.py\n",
    "Type:      function\n",
    "```"
   ]
  },
  {
   "cell_type": "code",
   "execution_count": null,
   "metadata": {},
   "outputs": [],
   "source": [
    "axl.Grudger.strategy??"
   ]
  },
  {
   "cell_type": "markdown",
   "metadata": {},
   "source": [
    "```python\n",
    "Signature: axl.Grudger.strategy(opponent:axelrod.player.Player) -> str\n",
    "Source:   \n",
    "    @staticmethod\n",
    "    def strategy(opponent: Player) -> Action:\n",
    "        \"\"\"Begins by playing C, then plays D for the remaining rounds if the\n",
    "        opponent ever plays D.\"\"\"\n",
    "        if opponent.defections:\n",
    "            return D\n",
    "        return C\n",
    "File:      ~/anaconda3/envs/gt/lib/python3.6/site-packages/axelrod/strategies/grudger.py\n",
    "Type:      function\n",
    "```"
   ]
  },
  {
   "cell_type": "markdown",
   "metadata": {},
   "source": [
    "## Reactive strategies\n",
    "\n",
    "[Video](https://youtu.be/Hbb2GcrbtVw?list=PLnC5h3PY-znxMsG0TRYGOyrnEO-QhVwLb)\n",
    "\n",
    "In 1989 a particular family of strategies was introduced by Martin Nowak. These strategies are defined by two parameters: $(p_1, p_1)$ where:\n",
    "\n",
    "- $p_1$ is the probability of cooperating after an opponent cooperates;\n",
    "- $p_2$ is the probability of cooperating after an opponent defects.\n",
    "\n",
    "\n",
    "---\n",
    "\n",
    "## Markov chain representation of a Match between two reactive strategies\n",
    "\n",
    "Consider two reactive players:\n",
    "\n",
    "$$\n",
    "p=(p_1, p_2) \\qquad q=(q_1, q_2)\n",
    "$$\n",
    "\n",
    "\n",
    "If we consider the order of possible states of a match to be:\n",
    "\n",
    "$$S=\\{CC, CD, DC, DD\\}$$\n",
    "\n",
    "then we can summarise a game with the following matrix:\n",
    "\n",
    "$$\n",
    "M = \n",
    "\\begin{pmatrix}\n",
    "    p_1q_1   & p_1(1-q_1) & (1-p_1)q_1 & (1-p_1)(1-q_1) \\\\\n",
    "    p_2q_1   & p_2(1-q_1) & (1-p_2)q_1 & (1-p_2)(1-q_1) \\\\\n",
    "    p_1q_2   & p_1(1-q_2) & (1-p_1)q_2 & (1-p_1)(1-q_2) \\\\\n",
    "    p_2q_2   & p_2(1-q_2) & (1-p_2)q_2 & (1-p_2)(1-q_2) \\\\\n",
    "\\end{pmatrix}\n",
    "$$\n",
    "\n",
    "---\n",
    "\n",
    "The matrix $M$ corresponds to a Markov chain. Given a probability vector $\\pi$ representing the probability of being in a given state of $S$: the probabilities of being in the a given step in the next round are given by:\n",
    "\n",
    "$$\\pi M$$\n",
    "\n",
    "If we consider:\n",
    "\n",
    "$$\n",
    "p=(1 / 4, 4 / 5) \\qquad q=(2 / 5, 1 / 3)\n",
    "$$\n",
    "\n",
    "below is some code that calculates the probabilities over 20 turns starting with both strategies cooperating:"
   ]
  },
  {
   "cell_type": "code",
   "execution_count": 5,
   "metadata": {
    "tags": [
     "nbval-ignore-output"
    ]
   },
   "outputs": [
    {
     "data": {
      "image/png": "[encoded data removed]",
      "text/plain": [
       "<Figure size 432x288 with 1 Axes>"
      ]
     },
     "metadata": {
      "needs_background": "light"
     },
     "output_type": "display_data"
    }
   ],
   "source": [
    "import numpy as np\n",
    "import matplotlib.pyplot as plt\n",
    "v_1 = np.array([1,0])\n",
    "v_2 = np.array([2 / 5, 1 / 3])\n",
    "\n",
    "M = np.array([[v_1[0] * v_2[0], v_1[0] * (1 - v_2[0]), (1 - v_1[0]) * v_2[0],  (1 - v_1[0]) * (1 - v_2[0])],\n",
    "              [v_1[1] * v_2[0], v_1[1] * (1 - v_2[0]), (1 - v_1[1]) * v_2[0],  (1 - v_1[1]) * (1 - v_2[0])],\n",
    "              [v_1[0] * v_2[1], v_1[0] * (1 - v_2[1]), (1 - v_1[0]) * v_2[1],  (1 - v_1[0]) * (1 - v_2[1])],\n",
    "              [v_1[1] * v_2[1], v_1[1] * (1 - v_2[1]), (1 - v_1[1]) * v_2[1],  (1 - v_1[1]) * (1 - v_2[1])]])\n",
    "\n",
    "pis = [np.array([1, 0, 0, 0])]\n",
    "number_of_turns = 20\n",
    "for _ in range(number_of_turns):\n",
    "    pis.append(np.dot(pis[-1], M))\n",
    "\n",
    "labels = [\"CC\", \"CD\", \"DC\", \"DD\"]\n",
    "for state, label in zip(zip(*pis), labels):\n",
    "    plt.plot(state, label=label)\n",
    "plt.legend();"
   ]
  },
  {
   "cell_type": "markdown",
   "metadata": {},
   "source": [
    "We see that over time these probabilities no longer change: this is referred to as steady state. A probability vector $\\pi$ at steady state is a solution to the following matrix equation:\n",
    "\n",
    "$$\\pi M=\\pi$$\n",
    "\n",
    "\n",
    "---\n",
    "\n",
    "## Theorem: steady state probabilities for match between reactive players\n",
    "\n",
    "The steady state of a match between (non deterministic) reactive players is given by:\n",
    "\n",
    "$$\n",
    "\\pi=(s_1s_2, s_1(1-s_2), (1-s_1)s_2, (1-s_1)(1-s_2))\n",
    "$$\n",
    "\n",
    "where:\n",
    "\n",
    "$$\n",
    "s_1 = \\frac{q_2r_1+p_2}{1-r_1r_2}\\qquad s_2 = \\frac{p_2r_2+q_2}{1-r_1r_2}\n",
    "$$\n",
    "\n",
    "for:\n",
    "\n",
    "$$r_1=p_1-p_2\\qquad r_2=q_1-q_2$$\n",
    "\n",
    "### Proof\n",
    "\n",
    "The proof follow (after some heavy algebra) by carrying out the following multiplication:\n",
    "\n",
    "$$\n",
    "\\pi M = \n",
    "(s_1s_2, s1(1-s_2), (1-s_1)s_2, (1-s_1)(1-s_2))\n",
    "\\begin{pmatrix}\n",
    "    p_1q_1   & p_1(1-q_1) & (1-p_1)q_1 & (1-p_1)(1-q_1) \\\\\n",
    "    p_2q_1   & p_2(1-q_1) & (1-p_2)q_1 & (1-p_2)(1-q_1) \\\\\n",
    "    p_1q_2   & p_1(1-q_2) & (1-p_1)q_2 & (1-p_1)(1-q_2) \\\\\n",
    "    p_2q_2   & p_2(1-q_2) & (1-p_2)q_2 & (1-p_2)(1-q_2) \\\\\n",
    "\\end{pmatrix}\n",
    "$$\n",
    "\n",
    "---\n",
    "\n",
    "Using this we can obtain the expected utility of the first player:\n",
    "\n",
    "$$s_1s_2\\times R +  s1(1-s_2) \\times S +  (1-s_1)s_2 \\times T + (1-s_1)(1-s_2)\\times P$$\n",
    "\n",
    "The second player:\n",
    "\n",
    "$$s_1s_2\\times R +  s1(1-s_2) \\times T +  (1-s_1)s_2 \\times S + (1-s_1)(1-s_2)\\times P$$"
   ]
  },
  {
   "cell_type": "code",
   "execution_count": 6,
   "metadata": {},
   "outputs": [],
   "source": [
    "def theoretic_steady_state(p, q):\n",
    "    r_1 = p[0] - p[1]\n",
    "    r_2 = q[0] - q[1]\n",
    "    s_1 = (q[1] * r_1 + p[1]) / (1 - r_1 * r_2)\n",
    "    s_2 = (p[1] * r_2 + q[1]) / (1 - r_1 * r_2)\n",
    "    return np.array([s_1 * s_2, s_1 * (1 - s_2), (1 - s_1) * s_2, (1 - s_1) * (1 - s_2)])\n",
    "\n",
    "def theoretic_utility(p, q, rstp=np.array([3, 0, 5, 1])):\n",
    "    pi = theoretic_steady_state(p, q)\n",
    "    return np.dot(pi, rstp)"
   ]
  },
  {
   "cell_type": "code",
   "execution_count": 7,
   "metadata": {
    "tags": [
     "nbval-ignore-output"
    ]
   },
   "outputs": [
    {
     "data": {
      "text/plain": [
       "(1.943877551020408, 1.943877551020408)"
      ]
     },
     "execution_count": 7,
     "metadata": {},
     "output_type": "execute_result"
    }
   ],
   "source": [
    "theoretic_utility(v_1, v_2), theoretic_utility(v_2, v_1)"
   ]
  },
  {
   "cell_type": "markdown",
   "metadata": {},
   "source": [
    "We can confirm this using the Axelrod library:"
   ]
  },
  {
   "cell_type": "code",
   "execution_count": 9,
   "metadata": {},
   "outputs": [
    {
     "data": {
      "text/plain": [
       "(1.9434, 1.9434)"
      ]
     },
     "execution_count": 9,
     "metadata": {},
     "output_type": "execute_result"
    }
   ],
   "source": [
    "player_1 = axl.ReactivePlayer(probabilities=v_1)\n",
    "player_2 = axl.ReactivePlayer(probabilities=v_2)\n",
    "match = axl.Match(players=(player_1, player_2), turns=5000)\n",
    "interactions = match.play()\n",
    "match.final_score_per_turn()"
   ]
  },
  {
   "cell_type": "markdown",
   "metadata": {},
   "source": [
    "## Numerous variants of this tournament have since been carried out:\n",
    "\n",
    "- Using a Probabilistic end (players don't know how many turns are going to be played). This was carried out in Axelrod's Second tournament, which had 64 strategies and Tit For Tat also won! (Described in a 1980 paper titled: [\"More effective choice in the Prisoner's Dilemma\"](http://journals.sagepub.com/doi/abs/10.1177/002200278002400301)).\n",
    "- Playing the tournament on a Graph. This was carried out by Nowak in 1992 in a paper titled: [\"Evolutionary games and Spatial chaos\"](https://www.researchgate.net/profile/Martin_Nowak2/publication/216634494_Evolutionary_Games_and_Spatial_Chaos/links/54217b730cf274a67fea8e60/Evolutionary-Games-and-Spatial-Chaos.pdf).\n",
    "- Understanding Evolutionary dynamics (we will understand what we mean by this in the later chapters as we start exploring evolutionary game theory).\n",
    "- A specific type of strategy has recently garnered a lot of interest: Zero Determinant Strategies (in a 2012 paper titled: [Iterated Prisoner’s Dilemma contains strategies that dominate any evolutionary opponent](http://www.pnas.org/content/109/26/10409.short)). Claiming that memory does not matter. We will discuss this in further chapters."
   ]
  }
 ],
 "metadata": {
  "anaconda-cloud": {},
  "celltoolbar": "Tags",
  "kernelspec": {
   "display_name": "Python 3",
   "language": "python",
   "name": "python3"
  },
  "language_info": {
   "codemirror_mode": {
    "name": "ipython",
    "version": 3
   },
   "file_extension": ".py",
   "mimetype": "text/x-python",
   "name": "python",
   "nbconvert_exporter": "python",
   "pygments_lexer": "ipython3",
   "version": "3.8.3"
  }
 },
 "nbformat": 4,
 "nbformat_minor": 2
}
