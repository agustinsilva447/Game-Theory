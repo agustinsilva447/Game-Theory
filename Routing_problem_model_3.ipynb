{
 "cells": [
  {
   "cell_type": "code",
   "execution_count": 11,
   "metadata": {},
   "outputs": [],
   "source": [
    "import sys\n",
    "import numpy as np\n",
    "import networkx as nx\n",
    "import matplotlib.pyplot as plt\n",
    "import copy"
   ]
  },
  {
   "cell_type": "code",
   "execution_count": 12,
   "metadata": {},
   "outputs": [],
   "source": [
    "n1 = 5 # cantidad de ciudades\n",
    "n2 = 10  # cantidad de viajes\n",
    "n3 = 3  # distancia máxima\n",
    "a = 0\n",
    "distance = np.zeros([n1,n1])\n",
    "moves = np.zeros([n2, 2])"
   ]
  },
  {
   "cell_type": "code",
   "execution_count": 13,
   "metadata": {},
   "outputs": [
    {
     "name": "stdout",
     "output_type": "stream",
     "text": [
      "Matriz de rutas: \n",
      "[[0 1 2 1 0]\n",
      " [1 0 0 1 1]\n",
      " [2 0 0 0 0]\n",
      " [1 1 0 0 2]\n",
      " [0 1 0 2 0]]\n"
     ]
    }
   ],
   "source": [
    "while (np.linalg.matrix_rank(a)!=n1):\n",
    "    a = np.random.randint(n3, size=(n1,n1))\n",
    "    np.fill_diagonal(a,0)\n",
    "    a = np.tril(a) + np.tril(a, -1).T\n",
    "print(\"Matriz de rutas: \\n{}\".format(a))"
   ]
  },
  {
   "cell_type": "code",
   "execution_count": 14,
   "metadata": {},
   "outputs": [
    {
     "data": {
      "image/png": "[encoded data removed]",
      "text/plain": [
       "<Figure size 432x288 with 1 Axes>"
      ]
     },
     "metadata": {},
     "output_type": "display_data"
    }
   ],
   "source": [
    "net1 = nx.from_numpy_matrix(copy.deepcopy(a))\n",
    "net2 = nx.from_numpy_matrix(copy.deepcopy(a))\n",
    "for e in net1.edges():\n",
    "    net2[e[0]][e[1]]['color'] = 'black'\n",
    "\n",
    "edge_weights_list = [net2[e[0]][e[1]]['weight'] for e in net2.edges()]\n",
    "nx.draw_circular(net2, with_labels=True, width=edge_weights_list)\n",
    "plt.show()"
   ]
  },
  {
   "cell_type": "code",
   "execution_count": 15,
   "metadata": {},
   "outputs": [
    {
     "name": "stdout",
     "output_type": "stream",
     "text": [
      "Matriz de movimientos: \n",
      "[[1. 2.]\n",
      " [1. 2.]\n",
      " [2. 0.]\n",
      " [1. 3.]\n",
      " [3. 2.]\n",
      " [2. 1.]\n",
      " [0. 3.]\n",
      " [1. 0.]\n",
      " [3. 1.]\n",
      " [1. 3.]]\n"
     ]
    }
   ],
   "source": [
    "rng = np.random.default_rng()\n",
    "for i in range(n2):\n",
    "    moves[i,:] = rng.choice(n1, size=2, replace=False)\n",
    "print(\"Matriz de movimientos: \\n{}\".format(moves))"
   ]
  },
  {
   "cell_type": "code",
   "execution_count": 16,
   "metadata": {},
   "outputs": [],
   "source": [
    "colores = []\n",
    "for i in range(n2):\n",
    "    color = np.base_repr(np.random.choice(16777215), base=16)\n",
    "    colores.append('#{:0>6}'.format(color))"
   ]
  },
  {
   "cell_type": "code",
   "execution_count": 17,
   "metadata": {},
   "outputs": [
    {
     "name": "stdout",
     "output_type": "stream",
     "text": [
      "001 - Para llegar desde 1.0 hasta 2.0 hay que hacer el siguiente camino: [1, 0, 2]\n",
      "002 - Para llegar desde 1.0 hasta 2.0 hay que hacer el siguiente camino: [1, 0, 2]\n",
      "003 - Para llegar desde 2.0 hasta 0.0 hay que hacer el siguiente camino: [2, 0]\n",
      "004 - Para llegar desde 1.0 hasta 3.0 hay que hacer el siguiente camino: [1, 3]\n",
      "005 - Para llegar desde 3.0 hasta 2.0 hay que hacer el siguiente camino: [3, 0, 2]\n",
      "006 - Para llegar desde 2.0 hasta 1.0 hay que hacer el siguiente camino: [2, 0, 1]\n",
      "007 - Para llegar desde 0.0 hasta 3.0 hay que hacer el siguiente camino: [0, 3]\n",
      "008 - Para llegar desde 1.0 hasta 0.0 hay que hacer el siguiente camino: [1, 0]\n",
      "009 - Para llegar desde 3.0 hasta 1.0 hay que hacer el siguiente camino: [3, 1]\n",
      "010 - Para llegar desde 1.0 hasta 3.0 hay que hacer el siguiente camino: [1, 3]\n"
     ]
    }
   ],
   "source": [
    "all_edges = [e for e in net1.edges]\n",
    "caminitos = []\n",
    "for j in range(n2):\n",
    "    p = nx.dijkstra_path(net1,int(moves[j,0]),int(moves[j,1]))\n",
    "    cam = []\n",
    "    for e in range(len(p)-1):\n",
    "        cam.append(tuple(sorted((p[e], p[e+1]))))    \n",
    "    caminitos.append(cam)\n",
    "    print(\"{:0>3} - Para llegar desde {} hasta {} hay que hacer el siguiente camino: {}\".format(j+1, moves[j,0],moves[j,1], p))"
   ]
  },
  {
   "cell_type": "code",
   "execution_count": 21,
   "metadata": {},
   "outputs": [
    {
     "name": "stdout",
     "output_type": "stream",
     "text": [
      "Todos los caminos disponibles: [(0, 1), (0, 2), (0, 3), (1, 3), (1, 4), (3, 4)]\n",
      "Todos los caminos recorridos: [[(0, 1), (0, 2)], [(0, 1), (0, 2)], [(0, 2)], [(1, 3)], [(0, 3), (0, 2)], [(0, 2), (0, 1)], [(0, 3)], [(0, 1)], [(1, 3)], [(1, 3)]]\n",
      "Matriz de recorridos: \n",
      "[[1. 1. 0. 0. 0. 1. 0. 1. 0. 0.]\n",
      " [1. 1. 1. 0. 1. 1. 0. 0. 0. 0.]\n",
      " [0. 0. 0. 0. 1. 0. 1. 0. 0. 0.]\n",
      " [0. 0. 0. 1. 0. 0. 0. 0. 1. 1.]\n",
      " [0. 0. 0. 0. 0. 0. 0. 0. 0. 0.]\n",
      " [0. 0. 0. 0. 0. 0. 0. 0. 0. 0.]]\n",
      "Matriz de recorridos repetidos: \n",
      "[[4]\n",
      " [5]\n",
      " [2]\n",
      " [3]\n",
      " [0]\n",
      " [0]]\n",
      "Caminos compartidos por rutas: [[0, 1, 5, 7], [0, 1, 2, 4, 5], [4, 6], [3, 8, 9], [], []]\n",
      "\n",
      "La ruta0 (0, 1) la comparten entre los recorridos: 0; 1; 5; 7;\n",
      "La ruta1 (0, 2) la comparten entre los recorridos: 0; 1; 2; 4; 5;\n",
      "La ruta2 (0, 3) la comparten entre los recorridos: 4; 6;\n",
      "La ruta3 (1, 3) la comparten entre los recorridos: 3; 8; 9;\n",
      "La ruta4 (1, 4) la comparten entre los recorridos:\n",
      "La ruta5 (3, 4) la comparten entre los recorridos:"
     ]
    }
   ],
   "source": [
    "caminotes = np.zeros([len(net1.edges), n2])\n",
    "for n_x, x in enumerate(net1.edges):\n",
    "    for n_y1, y1 in enumerate(caminitos):\n",
    "        for n_y2, y2 in enumerate(y1):\n",
    "            if x==y2:\n",
    "                caminotes[n_x, n_y1] = 1\n",
    "                \n",
    "caminotes_r = np.count_nonzero(caminotes, axis=1).reshape([-1, 1])\n",
    "                \n",
    "print(\"Todos los caminos disponibles: {}\".format(all_edges))\n",
    "print(\"Todos los caminos recorridos: {}\".format(caminitos))\n",
    "print(\"Matriz de recorridos: \\n{}\".format(caminotes))     \n",
    "print(\"Matriz de recorridos repetidos: \\n{}\".format(caminotes_r))\n",
    "\n",
    "caminotes_f1 = []\n",
    "for x in range(caminotes.shape[0]):\n",
    "    caminotes_f2 = []\n",
    "    for y in range(caminotes.shape[1]):\n",
    "        if caminotes[x,y]==1:\n",
    "            caminotes_f2.append(y)\n",
    "    caminotes_f1.append(caminotes_f2)\n",
    "\n",
    "print(\"Caminos compartidos por rutas:\", caminotes_f1)\n",
    "for n_x, x in enumerate(caminotes_f1):\n",
    "    print(\"\\nLa ruta{} {} la comparten entre los recorridos:\".format(n_x, all_edges[n_x]),end=\"\")\n",
    "    for n_y,y in enumerate(x):\n",
    "        print(\" {};\".format(y),end=\"\")"
   ]
  },
  {
   "cell_type": "code",
   "execution_count": 19,
   "metadata": {},
   "outputs": [
    {
     "name": "stdout",
     "output_type": "stream",
     "text": [
      "\n",
      "Ruta: (0, 1)\n",
      "Para hacer el suguiente recorrido: [1. 2.]. Debo pasar por [(0, 1), (0, 2)].\n",
      "Para hacer el suguiente recorrido: [1. 2.]. Debo pasar por [(0, 1), (0, 2)].\n",
      "Para hacer el suguiente recorrido: [2. 1.]. Debo pasar por [(0, 2), (0, 1)].\n",
      "Para hacer el suguiente recorrido: [1. 0.]. Debo pasar por [(0, 1)].\n",
      "\n",
      "Ruta: (0, 2)\n",
      "Para hacer el suguiente recorrido: [1. 2.]. Debo pasar por [(0, 1), (0, 2)].\n",
      "Para hacer el suguiente recorrido: [1. 2.]. Debo pasar por [(0, 1), (0, 2)].\n",
      "Para hacer el suguiente recorrido: [2. 0.]. Debo pasar por [(0, 2)].\n",
      "Para hacer el suguiente recorrido: [3. 2.]. Debo pasar por [(0, 3), (0, 2)].\n",
      "Para hacer el suguiente recorrido: [2. 1.]. Debo pasar por [(0, 2), (0, 1)].\n",
      "\n",
      "Ruta: (0, 3)\n",
      "Para hacer el suguiente recorrido: [3. 2.]. Debo pasar por [(0, 3), (0, 2)].\n",
      "Para hacer el suguiente recorrido: [0. 3.]. Debo pasar por [(0, 3)].\n",
      "\n",
      "Ruta: (1, 3)\n",
      "Para hacer el suguiente recorrido: [1. 3.]. Debo pasar por [(1, 3)].\n",
      "Para hacer el suguiente recorrido: [3. 1.]. Debo pasar por [(1, 3)].\n",
      "Para hacer el suguiente recorrido: [1. 3.]. Debo pasar por [(1, 3)].\n",
      "\n",
      "Ruta: (1, 4)\n",
      "\n",
      "Ruta: (3, 4)\n"
     ]
    }
   ],
   "source": [
    "for i in range(np.array(all_edges).shape[0]):\n",
    "    a = all_edges[i]\n",
    "    print(\"\\nRuta:\", a)\n",
    "    for j in range(caminotes_r[i][0]):\n",
    "        r = caminitos[caminotes_f1[i][j]]\n",
    "        print(\"Para hacer el suguiente recorrido: {}. Debo pasar por {}.\".format(moves[caminotes_f1[i][j]], r))"
   ]
  },
  {
   "cell_type": "code",
   "execution_count": null,
   "metadata": {},
   "outputs": [],
   "source": []
  },
  {
   "cell_type": "code",
   "execution_count": 20,
   "metadata": {},
   "outputs": [],
   "source": [
    "import nashpy as nash\n",
    "n_max = 2 * n3"
   ]
  }
 ],
 "metadata": {
  "kernelspec": {
   "display_name": "Python 3",
   "language": "python",
   "name": "python3"
  },
  "language_info": {
   "codemirror_mode": {
    "name": "ipython",
    "version": 3
   },
   "file_extension": ".py",
   "mimetype": "text/x-python",
   "name": "python",
   "nbconvert_exporter": "python",
   "pygments_lexer": "ipython3",
   "version": "3.8.3"
  }
 },
 "nbformat": 4,
 "nbformat_minor": 4
}
